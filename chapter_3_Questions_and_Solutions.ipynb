{
 "cells": [
  {
   "cell_type": "markdown",
   "id": "d6dcdbab",
   "metadata": {},
   "source": [
    "\n",
    "1. Implement a program that requests the current temperature in degrees Fahrenheit from the\n",
    "user and prints the temperature in degrees Celsius usi'g the formula\n",
    "\n",
    "celsius =5/9*(fahrenheit-32)\n",
    "\n",
    "Your program should execute as follows:\n",
    ">>>\n",
    "Enter the temperature in degrees Fahrenheit: 50\n",
    "The temperature in degrees Celsius is 10.0"
   ]
  },
  {
   "cell_type": "code",
   "execution_count": 1,
   "id": "c9051257",
   "metadata": {},
   "outputs": [
    {
     "name": "stdout",
     "output_type": "stream",
     "text": [
      "Enter the temperature in degrees Fahrenheit: 50\n",
      "The temperature in degrees Celsius is: 10.0\n"
     ]
    }
   ],
   "source": [
    "fahrenheit=eval(input('Enter the temperature in degrees Fahrenheit: '))\n",
    "print('Enter the temperature in degrees Fahrenheit:',fahrenheit)\n",
    "celsius =5/9*(fahrenheit-32)\n",
    "print('The temperature in degrees Celsius is:',celsius)"
   ]
  },
  {
   "cell_type": "markdown",
   "id": "21a7f037",
   "metadata": {},
   "source": [
    "2. Translate these conditional statements into Python if statements:\n",
    "(a) If age is greater 62, print 'You can get your pension benefits'.\n",
    "(b) If name is in list ['Musial', 'Aaraon', 'Williams', 'Gehrig', 'Ruth'],\n",
    "print 'One of the top 5 baseball players, ever!'.\n",
    "(c) If hits is greater than 10 and shield is 0, print 'You are dead...'.\n",
    "(d) If at least one of the Boolean variables north, south, east, and west is True, print\n",
    "'I can escape.'."
   ]
  },
  {
   "cell_type": "code",
   "execution_count": 3,
   "id": "41ac021c",
   "metadata": {},
   "outputs": [
    {
     "name": "stdout",
     "output_type": "stream",
     "text": [
      "you can get your pension benefits\n"
     ]
    }
   ],
   "source": [
    "#(a) \n",
    "age=77\n",
    "if age > 62:\n",
    "    print('you can get your pension benefits')"
   ]
  },
  {
   "cell_type": "code",
   "execution_count": 14,
   "id": "48045c2c",
   "metadata": {},
   "outputs": [
    {
     "name": "stdout",
     "output_type": "stream",
     "text": [
      "One of the top 5 baseball players, ever!\n"
     ]
    }
   ],
   "source": [
    "#(b)\n",
    "name='Musial'\n",
    "list=['Musial', 'Aaraon', 'Williams', 'Gehrig', 'Ruth']\n",
    "if name in list:\n",
    "    print('One of the top 5 baseball players, ever!')\n"
   ]
  },
  {
   "cell_type": "code",
   "execution_count": 15,
   "id": "2ede9096",
   "metadata": {},
   "outputs": [
    {
     "name": "stdout",
     "output_type": "stream",
     "text": [
      "You are dead...\n"
     ]
    }
   ],
   "source": [
    "#(c)\n",
    "hits=15\n",
    "shield=0\n",
    "if shield==0 and hits>10:\n",
    "    print('You are dead...')\n",
    "\n"
   ]
  },
  {
   "cell_type": "code",
   "execution_count": null,
   "id": "7ebf7e2f",
   "metadata": {},
   "outputs": [],
   "source": [
    "#(d)\n"
   ]
  },
  {
   "cell_type": "markdown",
   "id": "5eeaf19c",
   "metadata": {},
   "source": [
    "3. Translate these into Python if/else statements:\n",
    "(a) If year is divisible by 4, print 'Could be a leap year.'; otherwise print 'Definitely not\n",
    "a leap year.'\n",
    "(b) If list ticket is equal to list lottery, print 'You won!'; else print 'Better luck next\n",
    "time...'"
   ]
  },
  {
   "cell_type": "code",
   "execution_count": 16,
   "id": "2d871d91",
   "metadata": {},
   "outputs": [
    {
     "name": "stdout",
     "output_type": "stream",
     "text": [
      "Could be a leap year.\n"
     ]
    }
   ],
   "source": [
    "#a\n",
    "year=2024\n",
    "if year%4==0:\n",
    "    print('Could be a leap year.')\n",
    "else:\n",
    "    print('Definitely not a leap year.')"
   ]
  },
  {
   "cell_type": "code",
   "execution_count": 17,
   "id": "3c52bea9",
   "metadata": {},
   "outputs": [
    {
     "name": "stdout",
     "output_type": "stream",
     "text": [
      "Better luck next time...\n"
     ]
    }
   ],
   "source": [
    "#b\n",
    "ticket=[0,1,3,4]\n",
    "lottery=[6,7,0,3]\n",
    "if ticket==lottery:\n",
    "    print('You won!')\n",
    "else:\n",
    "    print('Better luck next time...')\n"
   ]
  },
  {
   "cell_type": "markdown",
   "id": "dd5162b9",
   "metadata": {},
   "source": [
    "4. Implement a program that starts by asking the user to enter a login id (i.e., a string). The program then checks whether the id entered by the user is in the list ['joe', 'sue','hani', 'sophie'] of valid users. Depending on the outcome, an appropriate message should be printed. Regardless of the outcome, your function should print 'Done.' before\n",
    "terminating. Here is an example of a successful login:\n",
    ">>>\n",
    "Login: joe\n",
    "You are in!\n",
    "Done.\n",
    "And here is one that is not:\n",
    ">>>\n",
    "Login: john\n",
    "User unknown.\n",
    "Done."
   ]
  },
  {
   "cell_type": "code",
   "execution_count": 18,
   "id": "62d727fc",
   "metadata": {},
   "outputs": [
    {
     "name": "stdout",
     "output_type": "stream",
     "text": [
      "Login: joe\n",
      "You are in!\n",
      "Done\n"
     ]
    }
   ],
   "source": [
    "user=input('Enter the id entered by the user: ')\n",
    "list=['joe', 'sue','hani', 'sophie']\n",
    "print('Login:',user)\n",
    "if user in list:\n",
    "    print('You are in!')\n",
    "    print('Done')\n",
    "else:\n",
    "    print('User unknown.')\n",
    "    print('Done')\n",
    "    "
   ]
  },
  {
   "cell_type": "markdown",
   "id": "0f911aab",
   "metadata": {},
   "source": [
    "5. Implement a program that requests from the user a list of words (i.e., strings) and then prints\n",
    "on the screen, one per line, all four-letter strings in the list.\n",
    ">>>\n",
    "Enter word list: ['stop', 'desktop', 'top', 'post']\n",
    "stop\n",
    "post"
   ]
  },
  {
   "cell_type": "code",
   "execution_count": 19,
   "id": "4b9ffc34",
   "metadata": {},
   "outputs": [
    {
     "name": "stdout",
     "output_type": "stream",
     "text": [
      "Enter word list: ('stop', 'desktop', 'top', 'post')\n",
      "stop\n",
      "post\n"
     ]
    }
   ],
   "source": [
    "Lst=eval(input('enter the list: '))\n",
    "print('Enter word list:',Lst)\n",
    "for x in Lst:\n",
    "    if len(x)==4:\n",
    "       print(x)"
   ]
  },
  {
   "cell_type": "markdown",
   "id": "0f54a11a",
   "metadata": {},
   "source": [
    "6. Write the for loop that will print these sequences of numbers, one per line, in the interactive\n",
    "shell.\n",
    "(a) Integers from 0 to 9 (i.e., 0, 1, 2, 3, 4, 5, 6, 7, 8, 9)\n",
    "(b) Integers from 0 to 1 (i.e., 0, 1)"
   ]
  },
  {
   "cell_type": "code",
   "execution_count": null,
   "id": "47b56a97",
   "metadata": {},
   "outputs": [
    {
     "name": "stdout",
     "output_type": "stream",
     "text": [
      "0\n",
      "1\n",
      "2\n",
      "3\n",
      "4\n",
      "5\n",
      "6\n",
      "7\n",
      "8\n",
      "9\n"
     ]
    }
   ],
   "source": [
    "#a\n",
    "for i in range(10):\n",
    "    print(i)"
   ]
  },
  {
   "cell_type": "code",
   "execution_count": 21,
   "id": "58eb89e3",
   "metadata": {},
   "outputs": [
    {
     "name": "stdout",
     "output_type": "stream",
     "text": [
      "0\n",
      "1\n"
     ]
    }
   ],
   "source": [
    "for i in range(2):\n",
    "    print(i)"
   ]
  },
  {
   "cell_type": "markdown",
   "id": "23a867a3",
   "metadata": {},
   "source": [
    "7. Write the for loop that will print the following sequences of numbers, one per line.\n",
    "(a) Integers from 3 up to and including 12\n",
    "(b) Integers from 0 up to but not including 9, but with a step of 2 instead of the default\n",
    "of 1 (i.e., 0, 2, 4, 6, 8)\n",
    "(c) Integers from 0 up to but not including 24 with a step of 3\n",
    "(d) Integers from 3 up to but not including 12 with a step of 5"
   ]
  },
  {
   "cell_type": "code",
   "execution_count": 22,
   "id": "d9799688",
   "metadata": {},
   "outputs": [
    {
     "name": "stdout",
     "output_type": "stream",
     "text": [
      "3\n",
      "4\n",
      "5\n",
      "6\n",
      "7\n",
      "8\n",
      "9\n",
      "10\n",
      "11\n",
      "12\n"
     ]
    }
   ],
   "source": [
    "#a\n",
    "for i in range(3,13):\n",
    "    print(i)"
   ]
  },
  {
   "cell_type": "code",
   "execution_count": 23,
   "id": "6ce7b909",
   "metadata": {},
   "outputs": [
    {
     "name": "stdout",
     "output_type": "stream",
     "text": [
      "0\n",
      "2\n",
      "4\n",
      "6\n",
      "8\n"
     ]
    }
   ],
   "source": [
    "#b\n",
    "for i in range(0,9,2):\n",
    "    print(i)"
   ]
  },
  {
   "cell_type": "code",
   "execution_count": 24,
   "id": "6b13d405",
   "metadata": {},
   "outputs": [
    {
     "name": "stdout",
     "output_type": "stream",
     "text": [
      "0\n",
      "3\n",
      "6\n",
      "9\n",
      "12\n",
      "15\n",
      "18\n",
      "21\n",
      "24\n"
     ]
    }
   ],
   "source": [
    "#c\n",
    "for i in range(0, 25,3):\n",
    "    print(i)"
   ]
  },
  {
   "cell_type": "code",
   "execution_count": 25,
   "id": "7ce07955",
   "metadata": {},
   "outputs": [
    {
     "name": "stdout",
     "output_type": "stream",
     "text": [
      "3\n",
      "8\n"
     ]
    }
   ],
   "source": [
    "#d\n",
    "for i in range(3,12,5):\n",
    "    print(i)"
   ]
  },
  {
   "cell_type": "markdown",
   "id": "cccfd14a",
   "metadata": {},
   "source": [
    "8. Define, directly in the interactive shell, function perimeter() that takes, as input, the ra-\n",
    "dius of a circle (a nonnegative number) and returns the perimeter of the circle. A sample\n",
    "\n",
    "usage is:\n",
    ">>> perimeter(1)\n",
    "6.283185307179586\n",
    ">>> perimeter (2)\n",
    "12.566370614359172\n",
    "Remember that you will need the value of π (defined in module math) to compute the\n",
    "perimeter."
   ]
  },
  {
   "cell_type": "code",
   "execution_count": 26,
   "id": "7db01a93",
   "metadata": {},
   "outputs": [
    {
     "data": {
      "text/plain": [
       "5"
      ]
     },
     "execution_count": 26,
     "metadata": {},
     "output_type": "execute_result"
    }
   ],
   "source": [
    "def f(x):\n",
    "    return x**2+1\n",
    "f(2)"
   ]
  },
  {
   "cell_type": "code",
   "execution_count": 27,
   "id": "de9000bd",
   "metadata": {},
   "outputs": [
    {
     "data": {
      "text/plain": [
       "12.566370614359172"
      ]
     },
     "execution_count": 27,
     "metadata": {},
     "output_type": "execute_result"
    }
   ],
   "source": [
    "import math\n",
    "def p(r):\n",
    "    return math.pi * r**2\n",
    "p(2)\n"
   ]
  },
  {
   "cell_type": "markdown",
   "id": "1dc5e675",
   "metadata": {},
   "source": [
    "9. Implement function average() that takes two numbers as input and returns the average of\n",
    "the numbers. You should write your implementation in a module you will name average.py.\n",
    "A sample usage is:\n",
    ">>> average(1,3)\n",
    "2.0\n",
    ">>> average(2, 3.5)\n",
    "2.75"
   ]
  },
  {
   "cell_type": "code",
   "execution_count": 26,
   "id": "947d34c4",
   "metadata": {},
   "outputs": [
    {
     "data": {
      "text/plain": [
       "2.0"
      ]
     },
     "execution_count": 26,
     "metadata": {},
     "output_type": "execute_result"
    }
   ],
   "source": [
    "def avg(x,y):\n",
    "    'this function calculate the average of two number'\n",
    "    return (x+y)/2\n",
    "avg(1,3)\n",
    "\n",
    "\n"
   ]
  },
  {
   "cell_type": "code",
   "execution_count": 27,
   "id": "17e792cd",
   "metadata": {},
   "outputs": [
    {
     "name": "stdout",
     "output_type": "stream",
     "text": [
      "Help on function avg in module __main__:\n",
      "\n",
      "avg(x, y)\n",
      "    this function calculate the average of two number\n",
      "\n"
     ]
    }
   ],
   "source": [
    "help(avg)"
   ]
  },
  {
   "cell_type": "code",
   "execution_count": 61,
   "id": "b623e197",
   "metadata": {},
   "outputs": [
    {
     "data": {
      "text/plain": [
       "2.75"
      ]
     },
     "execution_count": 61,
     "metadata": {},
     "output_type": "execute_result"
    }
   ],
   "source": [
    "def avg(x,y):\n",
    "    return (x+y)/2\n",
    "avg(2,3.5)"
   ]
  },
  {
   "cell_type": "markdown",
   "id": "ab1c90c3",
   "metadata": {},
   "source": [
    "10.  function noVowel() that takes a string s as input and returns True if no char-\n",
    "acter in s is a vowel, and False otherwise (i.e., some character in s is a vowel).\n",
    "\n",
    ">>> noVowel('crypt')\n",
    "True\n",
    ">>> noVowel('cwm')\n",
    "True\n",
    ">>> noVowel('car')Implement\n",
    "False"
   ]
  },
  {
   "cell_type": "code",
   "execution_count": null,
   "id": "8a6f542c",
   "metadata": {},
   "outputs": [
    {
     "data": {
      "text/plain": [
       "False"
      ]
     },
     "execution_count": 29,
     "metadata": {},
     "output_type": "execute_result"
    }
   ],
   "source": [
    "s=input('enter the string: ')\n",
    "def noVowel(s):\n",
    "    for i in s:\n",
    "        if i in 'aeiou':\n",
    "              return False \n",
    "    else:\n",
    "        return True\n",
    "noVowel(s)"
   ]
  },
  {
   "cell_type": "markdown",
   "id": "1b5d710e",
   "metadata": {},
   "source": [
    "11. Implement function allEven() that takes a list of integers and returns True if all integers\n",
    "in the list are even, and False otherwise.\n",
    ">>> allEven([8, 0, -2, 4, -6, 10])\n",
    "True\n",
    ">>> allEven([8, 0, -1, 4, -6, 10])\n",
    "False"
   ]
  },
  {
   "cell_type": "code",
   "execution_count": null,
   "id": "39f883a8",
   "metadata": {},
   "outputs": [
    {
     "data": {
      "text/plain": [
       "True"
      ]
     },
     "execution_count": 54,
     "metadata": {},
     "output_type": "execute_result"
    }
   ],
   "source": [
    "\n",
    "def allEven(list):\n",
    "    for i in list:\n",
    "        if i%2==0:\n",
    "            return True\n",
    "    else:\n",
    "        return False\n",
    "allEven(list)"
   ]
  },
  {
   "cell_type": "code",
   "execution_count": null,
   "id": "681904a8",
   "metadata": {},
   "outputs": [
    {
     "data": {
      "text/plain": [
       "False"
      ]
     },
     "execution_count": 55,
     "metadata": {},
     "output_type": "execute_result"
    }
   ],
   "source": [
    "list=[8, 0, -1, 4, -6, 10]\n",
    "def allEven(list):\n",
    "    for i in list:\n",
    "        if i%2!=0:\n",
    "            return False\n",
    "    else:\n",
    "        return True\n",
    "allEven(list)"
   ]
  },
  {
   "cell_type": "code",
   "execution_count": 56,
   "id": "b06b57a1",
   "metadata": {},
   "outputs": [
    {
     "data": {
      "text/plain": [
       "True"
      ]
     },
     "execution_count": 56,
     "metadata": {},
     "output_type": "execute_result"
    }
   ],
   "source": [
    "list=[8, 0, -2, 4, -6, 10]\n",
    "def allEven(list):\n",
    "    for i in list:\n",
    "        if i%2!=0:\n",
    "            return False\n",
    "    else:\n",
    "        return True\n",
    "allEven(list)"
   ]
  },
  {
   "cell_type": "markdown",
   "id": "ab471423",
   "metadata": {},
   "source": [
    "12. Write function negatives() that takes a list as input and prints, one per line, the negative\n",
    "values in the list. The function should not return anything.\n",
    ">>> negatives([4, 0, -1, -3, 6, -9])\n",
    "-1\n",
    "-3\n",
    "-9"
   ]
  },
  {
   "cell_type": "code",
   "execution_count": 58,
   "id": "14afa830",
   "metadata": {},
   "outputs": [
    {
     "name": "stdout",
     "output_type": "stream",
     "text": [
      "-1\n",
      "-3\n",
      "-9\n"
     ]
    }
   ],
   "source": [
    "list=[4, 0, -1, -3, 6, -9]\n",
    "def negatives():\n",
    "    for i in list:\n",
    "        if i<0:\n",
    "            print(i)\n",
    "negatives()     "
   ]
  },
  {
   "cell_type": "markdown",
   "id": "21365548",
   "metadata": {},
   "source": [
    "13. Add appropriate docstrings to functions average() and negatives() from Practice Prob-\n",
    "lems 9 and 12. Check your work using the help() documentation tool. You should get,\n",
    "\n",
    "for example:\n",
    ">>> help(average)\n",
    "Help on function average in module __main__:\n",
    "average(x, y)\n",
    "returns average of x and y"
   ]
  },
  {
   "cell_type": "code",
   "execution_count": 24,
   "id": "33a1659f",
   "metadata": {},
   "outputs": [
    {
     "name": "stdout",
     "output_type": "stream",
     "text": [
      "Help on built-in function len in module builtins:\n",
      "\n",
      "len(obj, /)\n",
      "    Return the number of items in a container.\n",
      "\n"
     ]
    }
   ],
   "source": [
    "help(len)"
   ]
  },
  {
   "cell_type": "code",
   "execution_count": null,
   "id": "c456498d",
   "metadata": {},
   "outputs": [],
   "source": []
  },
  {
   "cell_type": "markdown",
   "id": "5d8f7243",
   "metadata": {},
   "source": [
    "14. Draw a diagram representing the state of names and objects after this execution:\n",
    ">>> a = [5, 6, 7]\n",
    ">>> b = a\n",
    ">>> a = 3"
   ]
  },
  {
   "cell_type": "code",
   "execution_count": null,
   "id": "620e836f",
   "metadata": {},
   "outputs": [],
   "source": []
  },
  {
   "cell_type": "markdown",
   "id": "4b756068",
   "metadata": {},
   "source": [
    "15. Suppose a nonempty list team has been assigned. Write a Python statement or statements\n",
    "that swap the first and last value of the list. So, if the original list is:\n",
    ">>> team = ['Ava', 'Eleanor', 'Clare', 'Sarah']\n",
    "then the resulting list should be:\n",
    ">>> team\n",
    "['Sarah', 'Eleanor', 'Clare', 'Ava']"
   ]
  },
  {
   "cell_type": "code",
   "execution_count": 30,
   "id": "d2de3403",
   "metadata": {},
   "outputs": [
    {
     "data": {
      "text/plain": [
       "['Sarah', 'Eleanor', 'Clare', 'Ava']"
      ]
     },
     "execution_count": 30,
     "metadata": {},
     "output_type": "execute_result"
    }
   ],
   "source": [
    "team = ['Ava', 'Eleanor', 'Clare', 'Sarah']\n",
    "def swap(team):\n",
    "    team1=team[0]\n",
    "    team[0]=team[-1]\n",
    "    team[-1]=team1\n",
    "swap(team)\n",
    "team"
   ]
  },
  {
   "cell_type": "markdown",
   "id": "092a7bc3",
   "metadata": {},
   "source": [
    "16. Implement function swapFL() that takes a list as input and swaps the first and last ele-\n",
    "ments of the list. You may assume the list will be nonempty. The function should not return\n",
    "\n",
    "anything.\n",
    ">>> ingredients = ['flour', 'sugar', 'butter', 'apples',]\n",
    ">>> swapFL(ingredients)\n",
    ">>> ingredients\n",
    "['apples', 'sugar', 'butter', 'flour']"
   ]
  },
  {
   "cell_type": "code",
   "execution_count": 23,
   "id": "c42a029f",
   "metadata": {},
   "outputs": [
    {
     "data": {
      "text/plain": [
       "['masala', 'sugar', 'butter', 'apples', 'flour']"
      ]
     },
     "execution_count": 23,
     "metadata": {},
     "output_type": "execute_result"
    }
   ],
   "source": [
    "ingredients = ['flour', 'sugar', 'butter', 'apples','masala']\n",
    "def swapFL(ingredients):\n",
    "    first_element=ingredients[0]\n",
    "    last_element=ingredients[-1]\n",
    "    ingredients[0]=last_element\n",
    "    ingredients[-1]=first_element\n",
    "swapFL(ingredients)\n",
    "ingredients"
   ]
  },
  {
   "cell_type": "code",
   "execution_count": 63,
   "id": "c5cb0a0e",
   "metadata": {},
   "outputs": [
    {
     "data": {
      "text/plain": [
       "7"
      ]
     },
     "execution_count": 63,
     "metadata": {},
     "output_type": "execute_result"
    }
   ],
   "source": [
    "#a\n",
    "eval('2 * 3 + 1')"
   ]
  },
  {
   "cell_type": "code",
   "execution_count": 64,
   "id": "9412c35c",
   "metadata": {},
   "outputs": [
    {
     "ename": "NameError",
     "evalue": "name 'hello' is not defined",
     "output_type": "error",
     "traceback": [
      "\u001b[1;31m---------------------------------------------------------------------------\u001b[0m",
      "\u001b[1;31mNameError\u001b[0m                                 Traceback (most recent call last)",
      "Cell \u001b[1;32mIn[64], line 2\u001b[0m\n\u001b[0;32m      1\u001b[0m \u001b[38;5;66;03m#b\u001b[39;00m\n\u001b[1;32m----> 2\u001b[0m \u001b[38;5;28meval\u001b[39m(\u001b[38;5;124m'\u001b[39m\u001b[38;5;124mhello\u001b[39m\u001b[38;5;124m'\u001b[39m)\n",
      "File \u001b[1;32m<string>:1\u001b[0m\n",
      "\u001b[1;31mNameError\u001b[0m: name 'hello' is not defined"
     ]
    }
   ],
   "source": [
    "#b\n",
    "eval('hello')"
   ]
  },
  {
   "cell_type": "code",
   "execution_count": null,
   "id": "e5bf3c05",
   "metadata": {},
   "outputs": [
    {
     "data": {
      "text/plain": [
       "'hello world!'"
      ]
     },
     "execution_count": 65,
     "metadata": {},
     "output_type": "execute_result"
    }
   ],
   "source": [
    "#c\n",
    "eval(\"'hello' + ' ' + 'world!'\") "
   ]
  },
  {
   "cell_type": "code",
   "execution_count": 68,
   "id": "d17dbee0",
   "metadata": {},
   "outputs": [
    {
     "data": {
      "text/plain": [
       "2"
      ]
     },
     "execution_count": 68,
     "metadata": {},
     "output_type": "execute_result"
    }
   ],
   "source": [
    "#d\n",
    "eval(\"'ASCII'.count('I')\") "
   ]
  },
  {
   "cell_type": "code",
   "execution_count": 69,
   "id": "f70a0be1",
   "metadata": {},
   "outputs": [
    {
     "ename": "SyntaxError",
     "evalue": "invalid syntax (<string>, line 1)",
     "output_type": "error",
     "traceback": [
      "Traceback \u001b[1;36m(most recent call last)\u001b[0m:\n",
      "\u001b[0m  File \u001b[0;32mc:\\Users\\user\\anaconda3\\Lib\\site-packages\\IPython\\core\\interactiveshell.py:3553\u001b[0m in \u001b[0;35mrun_code\u001b[0m\n    exec(code_obj, self.user_global_ns, self.user_ns)\u001b[0m\n",
      "\u001b[1;36m  Cell \u001b[1;32mIn[69], line 2\u001b[1;36m\n\u001b[1;33m    eval('x = 5')\u001b[1;36m\n",
      "\u001b[1;36m  File \u001b[1;32m<string>:1\u001b[1;36m\u001b[0m\n\u001b[1;33m    x = 5\u001b[0m\n\u001b[1;37m      ^\u001b[0m\n\u001b[1;31mSyntaxError\u001b[0m\u001b[1;31m:\u001b[0m invalid syntax\n"
     ]
    }
   ],
   "source": [
    "#e\n",
    "eval('x = 5') \n"
   ]
  },
  {
   "cell_type": "markdown",
   "id": "52fd37c3",
   "metadata": {},
   "source": [
    "18. Assume a, b, and c have been defined in the interactive shell as shown:\n",
    ">>> a, b, c = 3, 4, 5\n",
    "Within the interactive shell, write if statements that print 'OK' if:\n",
    "(a) a is less than b.\n",
    "(b) c is less than b.\n",
    "(c) The sum of a and b is equal to c.\n",
    "(d) The sum of the squares a and b is equal to c squared."
   ]
  },
  {
   "cell_type": "code",
   "execution_count": 70,
   "id": "6b3c5769",
   "metadata": {},
   "outputs": [],
   "source": [
    "a=3\n",
    "b=4\n",
    "c=5"
   ]
  },
  {
   "cell_type": "code",
   "execution_count": 75,
   "id": "7b8e055f",
   "metadata": {},
   "outputs": [
    {
     "name": "stdout",
     "output_type": "stream",
     "text": [
      "OK\n"
     ]
    }
   ],
   "source": [
    "#a\n",
    "if a<b:\n",
    "    print('OK')"
   ]
  },
  {
   "cell_type": "code",
   "execution_count": 76,
   "id": "d0c4b8c0",
   "metadata": {},
   "outputs": [],
   "source": [
    "#b\n",
    "if c<b:\n",
    "    print('OK')"
   ]
  },
  {
   "cell_type": "code",
   "execution_count": 77,
   "id": "ef570d90",
   "metadata": {},
   "outputs": [],
   "source": [
    "#c\n",
    "if (a+b)==c:\n",
    "    print('Ok')"
   ]
  },
  {
   "cell_type": "code",
   "execution_count": 78,
   "id": "7aae74c3",
   "metadata": {},
   "outputs": [
    {
     "name": "stdout",
     "output_type": "stream",
     "text": [
      "OK\n"
     ]
    }
   ],
   "source": [
    "#d\n",
    "if (a**2+b**2)==c**2:\n",
    "    print('OK')"
   ]
  },
  {
   "cell_type": "markdown",
   "id": "dd2a6c26",
   "metadata": {},
   "source": [
    "19. Repeat the previous problem with the additional requirement that 'NOT OK' is printed\n",
    "if the condition is false."
   ]
  },
  {
   "cell_type": "code",
   "execution_count": 80,
   "id": "99d0df5b",
   "metadata": {},
   "outputs": [
    {
     "name": "stdout",
     "output_type": "stream",
     "text": [
      "NOT OK\n"
     ]
    }
   ],
   "source": [
    "#b\n",
    "if c<b:\n",
    "    print('OK')\n",
    "else:\n",
    "    print('NOT OK')"
   ]
  },
  {
   "cell_type": "code",
   "execution_count": 81,
   "id": "27169f8f",
   "metadata": {},
   "outputs": [
    {
     "name": "stdout",
     "output_type": "stream",
     "text": [
      "NOT OK\n"
     ]
    }
   ],
   "source": [
    "#c\n",
    "if (a+b)==c:\n",
    "    print('Ok')\n",
    "else:\n",
    "    print('NOT OK')"
   ]
  },
  {
   "cell_type": "markdown",
   "id": "b482c79a",
   "metadata": {},
   "source": [
    "20. Write a for loop that iterates over a list of strings lst and prints the first three char-\n",
    "acters of every word. If lst is the list ['January', 'February', 'March'] then the\n",
    "\n",
    "following should be printed:\n",
    "Jan\n",
    "Feb\n",
    "Mar"
   ]
  },
  {
   "cell_type": "code",
   "execution_count": 84,
   "id": "f1007baa",
   "metadata": {},
   "outputs": [
    {
     "name": "stdout",
     "output_type": "stream",
     "text": [
      "Jan\n",
      "Feb\n",
      "Mar\n"
     ]
    }
   ],
   "source": [
    "list= ['January', 'February', 'March']\n",
    "for i in list:\n",
    "    print(i[:3])"
   ]
  },
  {
   "cell_type": "code",
   "execution_count": null,
   "id": "82cceb42",
   "metadata": {},
   "outputs": [],
   "source": [
    "21. Write a for loop that iterates over a list of numbers lst and prints the even numbers in the list. For example, if lst is [2, 3, 4, 5, 6, 7, 8, 9], \n",
    "then the numbers 2, 4, 6,and 8 should be printed."
   ]
  },
  {
   "cell_type": "code",
   "execution_count": 7,
   "id": "1ad2cec0",
   "metadata": {},
   "outputs": [
    {
     "name": "stdout",
     "output_type": "stream",
     "text": [
      "2\n",
      "4\n",
      "6\n",
      "8\n"
     ]
    }
   ],
   "source": [
    "list=[2, 3, 4, 5, 6, 7, 8, 9]\n",
    "for i in list:\n",
    "    if i%2==0:\n",
    "        print(i)\n",
    "\n",
    "    "
   ]
  },
  {
   "cell_type": "markdown",
   "id": "ea4a099a",
   "metadata": {},
   "source": [
    "22. Write a for loop that iterates over a list of numbers lst and prints the numbers in the\n",
    "list whose square is divisible by 8. For example, if lst is [2, 3, 4, 5, 6, 7, 8, 9],\n",
    "then the numbers 4 and 8 should be printed"
   ]
  },
  {
   "cell_type": "code",
   "execution_count": 1,
   "id": "102fed2c",
   "metadata": {},
   "outputs": [
    {
     "name": "stdout",
     "output_type": "stream",
     "text": [
      "4\n",
      "8\n"
     ]
    }
   ],
   "source": [
    "list=[2, 3, 4, 5, 6, 7, 8, 9]\n",
    "for i in list:\n",
    "    if i*i%8==0:\n",
    "        print(i)"
   ]
  },
  {
   "cell_type": "code",
   "execution_count": null,
   "id": "09c26971",
   "metadata": {},
   "outputs": [],
   "source": [
    "23. Write for loops that use the function range() and print the following sequences:\n",
    "(a) 0 1\n",
    "(b) 0\n",
    "(c) 3 4 5 6\n",
    "(d) 1\n",
    "(e) 0 3\n",
    "(f) 5 9 13 17 21"
   ]
  },
  {
   "cell_type": "code",
   "execution_count": null,
   "id": "a527a1c0",
   "metadata": {},
   "outputs": [
    {
     "name": "stdout",
     "output_type": "stream",
     "text": [
      "0\n",
      "1\n"
     ]
    }
   ],
   "source": [
    "#a\n",
    "for i in range(2):\n",
    "    print(i)"
   ]
  },
  {
   "cell_type": "code",
   "execution_count": 5,
   "id": "cd3ad308",
   "metadata": {},
   "outputs": [
    {
     "name": "stdout",
     "output_type": "stream",
     "text": [
      "0\n"
     ]
    }
   ],
   "source": [
    "#b\n",
    "for i in range(1):\n",
    "    print(i)"
   ]
  },
  {
   "cell_type": "code",
   "execution_count": 9,
   "id": "a62a400f",
   "metadata": {},
   "outputs": [
    {
     "name": "stdout",
     "output_type": "stream",
     "text": [
      "3\n",
      "4\n",
      "5\n",
      "6\n"
     ]
    }
   ],
   "source": [
    "#c\n",
    "for i in range(3,7):\n",
    "    print(i)\n"
   ]
  },
  {
   "cell_type": "code",
   "execution_count": 11,
   "id": "a7489a4f",
   "metadata": {},
   "outputs": [
    {
     "name": "stdout",
     "output_type": "stream",
     "text": [
      "1\n"
     ]
    }
   ],
   "source": [
    "#d\n",
    "for i in range(1,2):\n",
    "    print(i)"
   ]
  },
  {
   "cell_type": "code",
   "execution_count": 12,
   "id": "d62ba12a",
   "metadata": {},
   "outputs": [
    {
     "name": "stdout",
     "output_type": "stream",
     "text": [
      "0\n",
      "3\n"
     ]
    }
   ],
   "source": [
    "#e\n",
    "for i in range(0,4,3):\n",
    "    print(i)"
   ]
  },
  {
   "cell_type": "code",
   "execution_count": 13,
   "id": "76e6c160",
   "metadata": {},
   "outputs": [
    {
     "name": "stdout",
     "output_type": "stream",
     "text": [
      "5\n",
      "9\n",
      "13\n",
      "17\n",
      "21\n"
     ]
    }
   ],
   "source": [
    "#f\n",
    "for i in range(5,22,4):\n",
    "    print(i)"
   ]
  },
  {
   "cell_type": "markdown",
   "id": "ebf9d786",
   "metadata": {},
   "source": [
    "24. Implement a program that requests a list of words from the user and then prints each\n",
    "word in the list that is not 'secret'.\n",
    ">>>\n",
    "Enter list of words: ['cia','secret','mi6','isi','secret']\n",
    "cia\n",
    "mi6\n",
    "isi"
   ]
  },
  {
   "cell_type": "code",
   "execution_count": 14,
   "id": "d29ff3d9",
   "metadata": {},
   "outputs": [
    {
     "name": "stdout",
     "output_type": "stream",
     "text": [
      "cia\n",
      "mi6\n",
      "isi\n"
     ]
    }
   ],
   "source": [
    "list=['cia','secret','mi6','isi','secret']\n",
    "for i in list:\n",
    "    if i!='secret':\n",
    "        print(i)\n"
   ]
  },
  {
   "cell_type": "markdown",
   "id": "999f8a78",
   "metadata": {},
   "source": [
    "25. Implement a program that requests a list of student names from the user and prints\n",
    "those names that start with letters A through M.\n",
    ">>>\n",
    "Enter list: ['Ellie', 'Steve', 'Sam', 'Owen', 'Gavin']\n",
    "Ellie\n",
    "Gavi"
   ]
  },
  {
   "cell_type": "code",
   "execution_count": 19,
   "id": "55f8f381",
   "metadata": {},
   "outputs": [
    {
     "name": "stdout",
     "output_type": "stream",
     "text": [
      "Ellie\n",
      "Gavin\n"
     ]
    }
   ],
   "source": [
    "list=['Ellie', 'Steve', 'Sam', 'Owen', 'Gavin']\n",
    "for i in list:\n",
    "    if i[:1]==('E') or i[:1]==('G'):\n",
    "        print(i)"
   ]
  },
  {
   "cell_type": "markdown",
   "id": "5c068a53",
   "metadata": {},
   "source": [
    "26. Implement a program that requests a nonempty list from the user and prints on the\n",
    "screen a message giving the first and last element of the list.\n",
    ">>>\n",
    "Enter a list: [3, 5, 7, 9]\n",
    " The first list element is 3\n",
    "The last list element is 9"
   ]
  },
  {
   "cell_type": "code",
   "execution_count": 24,
   "id": "6dcd7c2c",
   "metadata": {},
   "outputs": [
    {
     "data": {
      "text/plain": [
       "3"
      ]
     },
     "execution_count": 24,
     "metadata": {},
     "output_type": "execute_result"
    }
   ],
   "source": [
    "list=[3, 5, 7, 9]\n",
    "list[0]"
   ]
  },
  {
   "cell_type": "code",
   "execution_count": 34,
   "id": "9359d314",
   "metadata": {},
   "outputs": [
    {
     "name": "stdout",
     "output_type": "stream",
     "text": [
      "The first list element is 3\n",
      "The last list element is 9\n"
     ]
    }
   ],
   "source": [
    "list=[3, 5, 7, 9]\n",
    "for i in list:\n",
    "    if i==(list[0]):\n",
    "        print('The first list element is',i)\n",
    "\n",
    "for j in list:\n",
    "    if j==list[-1]:\n",
    "        print('The last list element is',j)"
   ]
  },
  {
   "cell_type": "code",
   "execution_count": 7,
   "id": "cced60d0",
   "metadata": {},
   "outputs": [
    {
     "name": "stdout",
     "output_type": "stream",
     "text": [
      "The first list element is 3\n",
      "The last list element is 9\n"
     ]
    }
   ],
   "source": [
    "list=eval(input('enter a list: '))\n",
    "for i in list:\n",
    "    if i==(list[0]):\n",
    "        print('The first list element is',i)\n",
    "\n",
    "for j in list:\n",
    "    if j==list[-1]:\n",
    "        print('The last list element is',j)                  #doubt"
   ]
  },
  {
   "cell_type": "code",
   "execution_count": 3,
   "id": "c7e8dcbb",
   "metadata": {},
   "outputs": [
    {
     "name": "stdout",
     "output_type": "stream",
     "text": [
      "The first list element is 3\n",
      "The last list element is  9\n"
     ]
    }
   ],
   "source": [
    "list=[3, 5, 7, 9]\n",
    "print('The first list element is',list[0])\n",
    "print('The last list element is ',list[-1])"
   ]
  },
  {
   "cell_type": "markdown",
   "id": "ee0a0d5b",
   "metadata": {},
   "source": [
    "27. Implement a program that requests a positive integer n from the user and prints the\n",
    "first four multiples of n.\n",
    ">>>\n",
    "Enter n: 5\n",
    "0\n",
    "5\n",
    "10\n",
    "15"
   ]
  },
  {
   "cell_type": "code",
   "execution_count": 58,
   "id": "b9a06643",
   "metadata": {},
   "outputs": [
    {
     "name": "stdout",
     "output_type": "stream",
     "text": [
      "Entr n: 5\n",
      "0\n",
      "5\n",
      "10\n",
      "15\n"
     ]
    }
   ],
   "source": [
    "n=eval(input('enter a positive integer: '))\n",
    "print('Entr n:',n)\n",
    "list=[0,1,2,3]\n",
    "for i in list:\n",
    "   print(i*n)"
   ]
  },
  {
   "cell_type": "code",
   "execution_count": null,
   "id": "e4a913a8",
   "metadata": {},
   "outputs": [],
   "source": [
    "28. Implement a program that requests an integer n from the user and prints on the screen\n",
    "the squares of all numbers from 0 up to, but not including, n.\n",
    ">>>\n",
    "Enter n: 3\n",
    "0\n",
    "1\n",
    "4"
   ]
  },
  {
   "cell_type": "code",
   "execution_count": 60,
   "id": "de4b03f9",
   "metadata": {},
   "outputs": [
    {
     "name": "stdout",
     "output_type": "stream",
     "text": [
      "enter n: 3\n",
      "0\n",
      "1\n",
      "4\n"
     ]
    }
   ],
   "source": [
    "n=eval(input('enter an nteger: '))\n",
    "print('enter n:',n)\n",
    "for i in range(0,n):\n",
    "    print(i**2)"
   ]
  },
  {
   "cell_type": "markdown",
   "id": "32212f1b",
   "metadata": {},
   "source": [
    "29. Implement a program that requests a positive integer n and prints on the screen all the\n",
    "positive divisors of n. Note: 0 is not a divisor of any integer, and n divides itself.\n",
    ">>\n",
    "Enter n: 49\n",
    "1\n",
    "7\n",
    "49"
   ]
  },
  {
   "cell_type": "code",
   "execution_count": 70,
   "id": "a162cf54",
   "metadata": {},
   "outputs": [
    {
     "name": "stdout",
     "output_type": "stream",
     "text": [
      "enter n: 49\n",
      "1\n",
      "7\n",
      "49\n"
     ]
    }
   ],
   "source": [
    "n=eval(input('enter an nteger: '))\n",
    "print('enter n:',n)\n",
    "for i in range(1,n+1):\n",
    "    if n%i==0:\n",
    "        print(i)\n"
   ]
  },
  {
   "cell_type": "markdown",
   "id": "20ed6648",
   "metadata": {},
   "source": [
    "30.implement a program that requests four numbers (integer or floating-point) from the\n",
    "user. Your program should compute the average of the first three numbers and compare the\n",
    "average to the fourth number. If they are equal, your program should print 'Equal' on the\n",
    "screen.\n",
    ">>>\n",
    "Enter first number: 4.5\n",
    "Enter second number: 3\n",
    "Enter third number: 3\n",
    "Enter last number: 3.5\n",
    "Equal"
   ]
  },
  {
   "cell_type": "code",
   "execution_count": 71,
   "id": "8adecf85",
   "metadata": {},
   "outputs": [
    {
     "name": "stdout",
     "output_type": "stream",
     "text": [
      "Enter first number: 4\n",
      "Enter second number: 4\n",
      "Enter third number: 4\n",
      "Enter last number: 4\n",
      "equal\n"
     ]
    }
   ],
   "source": [
    "x=input('enter a number: ')\n",
    "y=input('enter a number: ')\n",
    "z=input('enter a number: ')\n",
    "w=input('enter a number: ')\n",
    "print('Enter first number:',x)\n",
    "print('Enter second number:',y)\n",
    "print('Enter third number:',z)\n",
    "print('Enter last number:',w)\n",
    "if x==y==z==w:\n",
    "    print('equal')"
   ]
  },
  {
   "cell_type": "markdown",
   "id": "4c0058a3",
   "metadata": {},
   "source": [
    "31. Implement a program that requests the user to enter the x and y coordinates (each\n",
    "between −10 and 10) of a dart and computes whether the dart has hit the dartboard, a circle\n",
    "with center (0, 0) and radius 8. If so, string It is in! should be printed on the screen.\n",
    ">>>\n",
    "Enter x: 2.5\n",
    "Enter y: 4\n",
    "It is in"
   ]
  },
  {
   "cell_type": "code",
   "execution_count": 85,
   "id": "4b51ea0f",
   "metadata": {},
   "outputs": [
    {
     "name": "stdout",
     "output_type": "stream",
     "text": [
      "ente x: 2.5\n",
      "Enter y: 4\n",
      "It is in\n"
     ]
    }
   ],
   "source": [
    "x=eval(input('enter x: '))\n",
    "y=eval(input('enter y: '))\n",
    "print('ente x:',x)\n",
    "print('Enter y:',y)\n",
    "def dis(x,y):\n",
    "    if -10<=x<=10 and -10<=y<=10:\n",
    "        return (x**2+y**2)\n",
    "dis(x,y)\n",
    "if dis(x,y)<=64:\n",
    "    print('It is in')"
   ]
  },
  {
   "cell_type": "markdown",
   "id": "045df84e",
   "metadata": {},
   "source": [
    "32. Write a program that requests a positive four-digit integer from the user and prints its\n",
    "digits. You are not allowed to use the string data type operations to do this task. \n",
    "Your program should simply read the input as an integer and process it as an integer, using standard\n",
    "arithmetic operations (+, *, -, /, %, etc).\n",
    ">>>\n",
    "Enter n: 1234\n",
    "1\n",
    "2\n",
    "3\n",
    "4"
   ]
  },
  {
   "cell_type": "code",
   "execution_count": 12,
   "id": "32972040",
   "metadata": {},
   "outputs": [
    {
     "name": "stdout",
     "output_type": "stream",
     "text": [
      "Enter n: 1234\n",
      "1\n",
      "2\n",
      "3\n",
      "4\n"
     ]
    }
   ],
   "source": [
    "n=int(input('Enter a positive four-digit integer: '))\n",
    "print('Enter n:',n)\n",
    "\n",
    "d1 = n // 1000           # Thousands place\n",
    "d2 = (n % 1000) // 100   # Hundreds place\n",
    "d3 = (n % 100) // 10     # Tens place\n",
    "d4 = n % 10              # Ones place\n",
    "\n",
    "print(d1)\n",
    "print(d2)\n",
    "print(d3)\n",
    "print(d4)"
   ]
  },
  {
   "cell_type": "markdown",
   "id": "f542076c",
   "metadata": {},
   "source": [
    "33. implement function reverse_string() that takes as input a three-letter string and\n",
    "returns the string with its characters reversed.\n",
    ">>> reverse_string('abc')\n",
    "'cba'\n",
    ">>> reverse_string('dna')\n",
    "'and"
   ]
  },
  {
   "cell_type": "code",
   "execution_count": 156,
   "id": "546ce712",
   "metadata": {},
   "outputs": [
    {
     "data": {
      "text/plain": [
       "'cba'"
      ]
     },
     "execution_count": 156,
     "metadata": {},
     "output_type": "execute_result"
    }
   ],
   "source": [
    "str='abc'\n",
    "def reverse_string(str):\n",
    "    output=''\n",
    "    for i in range(-1,-(len(str)+1),-1):\n",
    "        output=output+str[i]\n",
    "    return output\n",
    "reverse_string(str)"
   ]
  },
  {
   "cell_type": "code",
   "execution_count": 167,
   "id": "46351372",
   "metadata": {},
   "outputs": [
    {
     "data": {
      "text/plain": [
       "'cba'"
      ]
     },
     "execution_count": 167,
     "metadata": {},
     "output_type": "execute_result"
    }
   ],
   "source": [
    "str='abc'\n",
    "def reverse_string(str):\n",
    "    output=''\n",
    "    for i in range(len(str)-1,-1,-1):\n",
    "        output=output+str[i]\n",
    "    return output\n",
    "reverse_string(str)"
   ]
  },
  {
   "cell_type": "code",
   "execution_count": 148,
   "id": "6b7e061b",
   "metadata": {},
   "outputs": [],
   "source": [
    "str='abc'\n",
    "output=''\n",
    "for i in range(-1,len(str),-1):\n",
    "    print(i)\n"
   ]
  },
  {
   "cell_type": "code",
   "execution_count": 127,
   "id": "801d2383",
   "metadata": {},
   "outputs": [
    {
     "data": {
      "text/plain": [
       "'cba'"
      ]
     },
     "execution_count": 127,
     "metadata": {},
     "output_type": "execute_result"
    }
   ],
   "source": [
    "str='abc'\n",
    "def reverse_string(str):          \n",
    "   return str[::-1]\n",
    "reverse_string(str)"
   ]
  },
  {
   "cell_type": "code",
   "execution_count": 49,
   "id": "e47797f8",
   "metadata": {},
   "outputs": [
    {
     "data": {
      "text/plain": [
       "3"
      ]
     },
     "execution_count": 49,
     "metadata": {},
     "output_type": "execute_result"
    }
   ],
   "source": [
    "str='abc'\n",
    "len(str)"
   ]
  },
  {
   "cell_type": "code",
   "execution_count": 107,
   "id": "2ace55da",
   "metadata": {},
   "outputs": [],
   "source": [
    "str='abc'\n",
    "for i in range(0,3):\n",
    "    i=len(str)\n",
    "def reverse_string(): \n",
    "    for i in range(0,len(str),-1):\n",
    "        print(i)\n",
    "          \n",
    "        \n"
   ]
  },
  {
   "cell_type": "code",
   "execution_count": 1,
   "id": "75d4a005",
   "metadata": {},
   "outputs": [
    {
     "name": "stdout",
     "output_type": "stream",
     "text": [
      "0\n",
      "1\n",
      "2\n"
     ]
    }
   ],
   "source": [
    "str1='abc'\n",
    "for i in range(len(str1)):\n",
    "    print(i)"
   ]
  },
  {
   "cell_type": "code",
   "execution_count": 36,
   "id": "b84cf3e6",
   "metadata": {},
   "outputs": [
    {
     "data": {
      "text/plain": [
       "[1, 3, 5, 7, 9]"
      ]
     },
     "execution_count": 36,
     "metadata": {},
     "output_type": "execute_result"
    }
   ],
   "source": [
    "list=[]\n",
    "for i in range(1,11):\n",
    "    list.append(i)\n",
    "list1=[]   \n",
    "for i in range(0,len(list),2):\n",
    "    list1.append(list[i])\n",
    "list1"
   ]
  },
  {
   "cell_type": "code",
   "execution_count": 12,
   "id": "f9905502",
   "metadata": {},
   "outputs": [
    {
     "data": {
      "text/plain": [
       "[1, 3, 5]"
      ]
     },
     "execution_count": 12,
     "metadata": {},
     "output_type": "execute_result"
    }
   ],
   "source": [
    "list[0:5:2]"
   ]
  },
  {
   "cell_type": "code",
   "execution_count": 8,
   "id": "8860bbff",
   "metadata": {},
   "outputs": [
    {
     "data": {
      "text/plain": [
       "'123'"
      ]
     },
     "execution_count": 8,
     "metadata": {},
     "output_type": "execute_result"
    }
   ],
   "source": [
    "str='1234'\n",
    "str[0:3]"
   ]
  },
  {
   "cell_type": "code",
   "execution_count": 9,
   "id": "a4c620a7",
   "metadata": {},
   "outputs": [
    {
     "data": {
      "text/plain": [
       "'4321'"
      ]
     },
     "execution_count": 9,
     "metadata": {},
     "output_type": "execute_result"
    }
   ],
   "source": [
    "str[::-1]"
   ]
  },
  {
   "cell_type": "markdown",
   "id": "45306f49",
   "metadata": {},
   "source": [
    "34. Implement function pay() that takes as input two arguments: an hourly wage and the\n",
    "number of hours an employee worked in the last week. Your function should compute and\n",
    "return the employee’s pay. Any hours worked beyond 40 is overtime and should be paid at\n",
    "1.5 times the regular hourly wage.\n",
    ">>> pay(10, 35)\n",
    "350\n",
    ">>> pay(10, 45)\n",
    "475.0"
   ]
  },
  {
   "cell_type": "code",
   "execution_count": 104,
   "id": "367230df",
   "metadata": {},
   "outputs": [
    {
     "data": {
      "text/plain": [
       "350"
      ]
     },
     "execution_count": 104,
     "metadata": {},
     "output_type": "execute_result"
    }
   ],
   "source": [
    "#x=10 #hourly wage\n",
    "#y=35 #number of hours an employee worked in the last week\n",
    "def pay(x,y):\n",
    "    if y<=40:\n",
    "        return x*y\n",
    "    else:\n",
    "        return (x*40)+(x*1.5*(y-40))\n",
    "pay(10,35)\n"
   ]
  },
  {
   "cell_type": "code",
   "execution_count": null,
   "id": "39ce4dcc",
   "metadata": {},
   "outputs": [
    {
     "data": {
      "text/plain": [
       "475.0"
      ]
     },
     "execution_count": 101,
     "metadata": {},
     "output_type": "execute_result"
    }
   ],
   "source": [
    "pay(10,45)"
   ]
  },
  {
   "cell_type": "code",
   "execution_count": null,
   "id": "434da30e",
   "metadata": {},
   "outputs": [],
   "source": [
    "35. The probability of getting n heads in a row when tossing a fair coin n times is 2^−n.\n",
    "Implement function prob() that takes a nonnegative integer n as input and returns the\n",
    "probability of n heads in a row when tossing a fair coin n times.\n",
    ">>> prob(1)\n",
    "0.5\n",
    ">>> prob(2)\n",
    "0.25"
   ]
  },
  {
   "cell_type": "code",
   "execution_count": null,
   "id": "8f892d60",
   "metadata": {},
   "outputs": [
    {
     "data": {
      "text/plain": [
       "0.5"
      ]
     },
     "execution_count": 105,
     "metadata": {},
     "output_type": "execute_result"
    }
   ],
   "source": [
    "def prob(n):\n",
    "    return 2**(-n)\n",
    "prob(1)"
   ]
  },
  {
   "cell_type": "code",
   "execution_count": 106,
   "id": "8cbaebb1",
   "metadata": {},
   "outputs": [
    {
     "data": {
      "text/plain": [
       "0.25"
      ]
     },
     "execution_count": 106,
     "metadata": {},
     "output_type": "execute_result"
    }
   ],
   "source": [
    "prob(2)"
   ]
  },
  {
   "cell_type": "code",
   "execution_count": null,
   "id": "c59515bb",
   "metadata": {},
   "outputs": [],
   "source": [
    "36. implement function reverse_int() that takes a three-digit integer as input and returns the integer obtained by reversing its digits. \n",
    "For example, if the input is 123, your function should return 321. You are not allowed to use the string data type operations to\n",
    "do this task. Your program should simply read the input as an integer and process it as an\n",
    "integer using operators such as // and %. You may assume that the input integer does not end with the 0 digit.\n",
    ">>> reverse_int(123)\n",
    "321\n",
    ">>> reverse_int(908)\n",
    "809"
   ]
  },
  {
   "cell_type": "code",
   "execution_count": 10,
   "id": "0714678e",
   "metadata": {},
   "outputs": [
    {
     "data": {
      "text/plain": [
       "321"
      ]
     },
     "execution_count": 10,
     "metadata": {},
     "output_type": "execute_result"
    }
   ],
   "source": [
    "number = 123\n",
    "\n",
    "def reverse_int(number):\n",
    "    last_digit= (number%10)\n",
    "    middle_digit=(number%100)//10\n",
    "    first_digit=number//100\n",
    "    reversed_num=last_digit*100+middle_digit*10+first_digit\n",
    "    return reversed_num\n",
    "reverse_int(number)"
   ]
  },
  {
   "cell_type": "code",
   "execution_count": 11,
   "id": "feb9ff07",
   "metadata": {},
   "outputs": [
    {
     "data": {
      "text/plain": [
       "654"
      ]
     },
     "execution_count": 11,
     "metadata": {},
     "output_type": "execute_result"
    }
   ],
   "source": [
    "reverse_int(456)"
   ]
  },
  {
   "cell_type": "markdown",
   "id": "8b668b39",
   "metadata": {},
   "source": [
    "37. Implement function points() that takes as input four numbers x1, y1, x2, y2 that\n",
    "are the coordinates of two points (x1, y1) and (x2, y2) in the plane. Your function should\n",
    "compute:\n",
    "• The slope of the line going through the points, unless the line is vertical\n",
    "• The distance between the two points\n",
    "Your function should print the computed slope and distance in the following format. If the\n",
    "line is vertical, the value of the slope should be string 'infinity'. Note: Make sure you\n",
    "convert the slope and distance values to a string before printing them.\n",
    ">>> points(0, 0, 1, 1)\n",
    "The slope is 1.0 and the distance is 1.41421356237\n",
    ">>> points(0, 0, 0, 1)\n",
    "The slope is infinity and the distance is 1.0"
   ]
  },
  {
   "cell_type": "code",
   "execution_count": 29,
   "id": "5d45ca95",
   "metadata": {},
   "outputs": [
    {
     "name": "stdout",
     "output_type": "stream",
     "text": [
      "The slope is infinity and the distance is: 1.0\n"
     ]
    }
   ],
   "source": [
    "import math\n",
    "(x1,y1,x2,y2)=(0,0,0,1)\n",
    "def points(x1,y1,x2,y2):\n",
    "    d= math.sqrt((x2-x1)**2+(y2-y1)**2)\n",
    "    if x1==x2:\n",
    "         print('The slope is infinity and the distance is:',d)\n",
    "\n",
    "    else:    \n",
    "        y=(y2-y1)/(x2-x1)\n",
    "        print('The slope is:',y,'and the distance is:',d)\n",
    "points(x1,y1,x2,y2)"
   ]
  },
  {
   "cell_type": "code",
   "execution_count": 31,
   "id": "c86fd802",
   "metadata": {},
   "outputs": [
    {
     "name": "stdout",
     "output_type": "stream",
     "text": [
      "The slope is: 1.0 and the distance is: 1.4142135623730951\n"
     ]
    }
   ],
   "source": [
    "points(0,0,1,1)"
   ]
  },
  {
   "cell_type": "markdown",
   "id": "648d98ec",
   "metadata": {},
   "source": [
    "38. Implement function abbreviation() that takes a day of the week as input and returns\n",
    "its two-letter abbreviation.\n",
    ">>> abbreviation('Tuesday')\n",
    "'Tu'"
   ]
  },
  {
   "cell_type": "code",
   "execution_count": 3,
   "id": "d619d956",
   "metadata": {},
   "outputs": [
    {
     "data": {
      "text/plain": [
       "'Tu'"
      ]
     },
     "execution_count": 3,
     "metadata": {},
     "output_type": "execute_result"
    }
   ],
   "source": [
    "def  abbreviation(day):\n",
    "    return day[:2]\n",
    "abbreviation('Tuesday')"
   ]
  },
  {
   "cell_type": "markdown",
   "id": "7ae96f0b",
   "metadata": {},
   "source": [
    "39. The computer game function collision() checks whether two circular objects colide; \n",
    "it returns True if they do and False otherwise. Each circular object will be given by\n",
    "its radius and the (x, y) coordinates of its center. Thus the function will take six numbers\n",
    "as input: the coordinates x1 and y1 of the center and the radius r1 of the first circle, and the\n",
    "coordinates x2 and y2 of the center and the radius r2 of the second circle.\n",
    ">>> collision(0, 0, 3, 0, 5, 3)\n",
    "True\n",
    ">>> collision(0, 0, 1.4, 2, 2, 1.4)\n",
    "False"
   ]
  },
  {
   "cell_type": "code",
   "execution_count": 4,
   "id": "d90731f8",
   "metadata": {},
   "outputs": [
    {
     "data": {
      "text/plain": [
       "True"
      ]
     },
     "execution_count": 4,
     "metadata": {},
     "output_type": "execute_result"
    }
   ],
   "source": [
    "import math\n",
    "def collision(x1,y1,r1,x2,y2,r2):\n",
    "    if math.sqrt((x2-x1)**2+(y2-y1)**2)<=r1+r2:\n",
    "        return True\n",
    "    else:\n",
    "        return False\n",
    "collision(0,0,3,0,5,3)\n"
   ]
  },
  {
   "cell_type": "code",
   "execution_count": 5,
   "id": "89c8f253",
   "metadata": {},
   "outputs": [
    {
     "data": {
      "text/plain": [
       "False"
      ]
     },
     "execution_count": 5,
     "metadata": {},
     "output_type": "execute_result"
    }
   ],
   "source": [
    "collision(0,0,1.4,2,2,1.4)"
   ]
  },
  {
   "cell_type": "markdown",
   "id": "19192de4",
   "metadata": {},
   "source": [
    "40. Implement function partition() that splits a list of soccer players into two groups.\n",
    "More precisely, it takes a list of first names (strings) as input and prints the names of those\n",
    "soccer players whose first name starts with a letter between and including A and M.\n",
    ">>> partition(['Eleanor', 'Evelyn', 'Sammy', 'Owen', 'Gavin'])\n",
    "Eleanor\n",
    "Evelyn\n",
    "Gavin"
   ]
  },
  {
   "cell_type": "code",
   "execution_count": 9,
   "id": "897e7769",
   "metadata": {},
   "outputs": [
    {
     "name": "stdout",
     "output_type": "stream",
     "text": [
      "Eleanor\n",
      "Evelyn\n",
      "Gavin\n"
     ]
    }
   ],
   "source": [
    "def partition(list):\n",
    "    for i in list:\n",
    "       if 'A'<= i[0] <= 'M':\n",
    "           print(i)\n",
    "partition(['Eleanor', 'Evelyn', 'Sammy', 'Owen', 'Gavin'])\n",
    "\n"
   ]
  },
  {
   "cell_type": "markdown",
   "id": "9179b654",
   "metadata": {},
   "source": [
    "41. Write function lastF() that takes as input two strings of the form 'FirstName' and\n",
    "'LastName', respectively, and returns a string of the form 'LastName, F.'. (Only the\n",
    "initial should be output for the first name.)\n",
    ">>> lastF('Albert', 'Camus')\n",
    "'Camus, A."
   ]
  },
  {
   "cell_type": "code",
   "execution_count": 40,
   "id": "cc10dace",
   "metadata": {},
   "outputs": [
    {
     "name": "stdout",
     "output_type": "stream",
     "text": [
      "Camus,A\n"
     ]
    }
   ],
   "source": [
    "FirstName='Albert'\n",
    "LastName='Camus'\n",
    "\n",
    "def lastF(FirstName,LastName):\n",
    "    output=f\"{LastName},{FirstName[:1]}\"\n",
    "    return output\n",
    "print(lastF(FirstName,LastName))                                            \n"
   ]
  },
  {
   "cell_type": "markdown",
   "id": "31fea87b",
   "metadata": {},
   "source": [
    "42. Implement function avg() that takes as input a list that contains lists of numbers. Each\n",
    "number list represents the grades a particular student received for a course. For example,\n",
    "here is an input list for a class of four students:\n",
    "[[95, 92, 86, 87], [66, 54], [89, 72, 100], [33, 0, 0]]\n",
    "The function avg should print, one per line, every student’s average grade. You may assume\n",
    "that every list of grades is nonempty, but you may not assume that every student has the same\n",
    "number of grades.\n",
    ">>> avg([[95, 92, 86, 87], [66, 54], [89, 72, 100], [33, 0, 0]])\n",
    "90.0\n",
    "60.0\n",
    "87.0\n",
    "11."
   ]
  },
  {
   "cell_type": "code",
   "execution_count": 79,
   "id": "66b7fc27",
   "metadata": {},
   "outputs": [
    {
     "name": "stdout",
     "output_type": "stream",
     "text": [
      "90.0\n",
      "60.0\n",
      "87.0\n",
      "11.0\n"
     ]
    }
   ],
   "source": [
    "grade_lst=[[95, 92, 86, 87], [66, 54], [89, 72, 100], [33, 0, 0]]\n",
    "def avg(list):\n",
    "    for i in grade_lst:\n",
    "        avg=sum(i)/len(i)\n",
    "        print(avg)\n",
    "avg(grade_lst)\n"
   ]
  },
  {
   "cell_type": "markdown",
   "id": "1fabae5d",
   "metadata": {},
   "source": [
    "43. The computer game function hit() takes five numbers as input: the x and y coordinates of the center and the radius of a circle C, and the x and y coordinates of a point P.\n",
    "The function should return True if point P is inside or on circle C and False otherwise.\n",
    ">>> hit(0, 0, 3, 3, 0)\n",
    "True\n",
    ">>> hit(0, 0, 3, 4, 0)\n",
    "False"
   ]
  },
  {
   "cell_type": "code",
   "execution_count": null,
   "id": "d5d7f660",
   "metadata": {},
   "outputs": [
    {
     "data": {
      "text/plain": [
       "True"
      ]
     },
     "execution_count": 2,
     "metadata": {},
     "output_type": "execute_result"
    }
   ],
   "source": [
    "def hit(x1,y1,r,x2,y2):\n",
    "    if (x2-x1)**2+(y2-y1)**2<=r**2:\n",
    "        return True\n",
    "    else:\n",
    "        return False\n",
    "hit(0, 0, 3, 3, 0)"
   ]
  },
  {
   "cell_type": "code",
   "execution_count": 3,
   "id": "274af78b",
   "metadata": {},
   "outputs": [
    {
     "data": {
      "text/plain": [
       "False"
      ]
     },
     "execution_count": 3,
     "metadata": {},
     "output_type": "execute_result"
    }
   ],
   "source": [
    "hit(0, 0, 3, 4, 0)"
   ]
  },
  {
   "cell_type": "markdown",
   "id": "2cc41946",
   "metadata": {},
   "source": [
    "44. Write a function distance() that takes as input a number: the time elapsed (in seconds) between the flash and the sound of thunder. \n",
    "Your function should return the distance to the lightning strike in kilometers. The speed of sound is approximately 340.29 meters per\n",
    "second; there are 1000 meters in one kilometer.\n",
    ">>> distance(3)\n",
    "1.0208700000000002"
   ]
  },
  {
   "cell_type": "code",
   "execution_count": 5,
   "id": "fd718c9b",
   "metadata": {},
   "outputs": [
    {
     "data": {
      "text/plain": [
       "1.0208700000000002"
      ]
     },
     "execution_count": 5,
     "metadata": {},
     "output_type": "execute_result"
    }
   ],
   "source": [
    "#distance= 340.29×t/1000\n",
    "def distance(t):\n",
    "    return (340.29*t)/1000\n",
    "distance(3)"
   ]
  }
 ],
 "metadata": {
  "kernelspec": {
   "display_name": "base",
   "language": "python",
   "name": "python3"
  },
  "language_info": {
   "codemirror_mode": {
    "name": "ipython",
    "version": 3
   },
   "file_extension": ".py",
   "mimetype": "text/x-python",
   "name": "python",
   "nbconvert_exporter": "python",
   "pygments_lexer": "ipython3",
   "version": "3.11.7"
  }
 },
 "nbformat": 4,
 "nbformat_minor": 5
}
