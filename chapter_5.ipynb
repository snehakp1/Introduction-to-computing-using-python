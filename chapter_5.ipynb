{
 "cells": [
  {
   "cell_type": "markdown",
   "id": "3ee783f3",
   "metadata": {},
   "source": [
    "1. Implement function myBMI() that takes as input a person’s height (in inches) and weight\n",
    "(in pounds) and computes the person’s Body Mass Index (BMI). The BMI formula is:\n",
    "\n",
    "bmi =weight ∗ 703/(height)^2\n",
    "\n",
    "Your functions should print the string 'Underweight' if bmi < 18.5, 'Normal' if 18.5 <=\n",
    "bmi < 25, and Overweight if bmi >= 25."
   ]
  },
  {
   "cell_type": "code",
   "execution_count": 3,
   "id": "e0f72f84",
   "metadata": {},
   "outputs": [
    {
     "name": "stdout",
     "output_type": "stream",
     "text": [
      "Overweight\n"
     ]
    }
   ],
   "source": [
    "def myBMI(height, weight):\n",
    "    bmi = weight * 703 / (height ** 2)\n",
    "    if bmi < 18.5:\n",
    "        print(\"Underweight\")\n",
    "    elif 18.5 <= bmi < 25:\n",
    "        print(\"Normal\")\n",
    "    else:\n",
    "        print(\"Overweight\")\n",
    "myBMI(45, 80)  \n"
   ]
  },
  {
   "cell_type": "markdown",
   "id": "c79fc72f",
   "metadata": {},
   "source": [
    "2. Write a function named powers() that takes a positive integer n as input and prints, on the\n",
    "screen, all the powers of 2 from 2^1 to 2^n.\n",
    "\n",
    ">>> powers(6)\n",
    "2 4 8 16 32 64"
   ]
  },
  {
   "cell_type": "code",
   "execution_count": 4,
   "id": "c0102bda",
   "metadata": {},
   "outputs": [
    {
     "name": "stdout",
     "output_type": "stream",
     "text": [
      "2 4 8 16 32 64 "
     ]
    }
   ],
   "source": [
    "def powers(n):\n",
    "    for i in range(1, n + 1):\n",
    "        print(2 ** i, end=\" \")\n",
    "powers(6)\n"
   ]
  },
  {
   "cell_type": "markdown",
   "id": "79e0df09",
   "metadata": {},
   "source": [
    "3. Write function arithmetic() that takes a list of integers as input and returns True if they\n",
    "\n",
    "form an arithmetic sequence. (A sequence of integers is an arithmetic sequence if the dif-\n",
    "ference between consecutive items of the list is always the same.)\n",
    "\n",
    ">>> arithmetic([3, 6, 9, 12, 15])\n",
    "True\n",
    ">>> arithmetic([3, 6, 9, 11, 14])\n",
    "False\n",
    ">>> arithmetic([3])\n",
    "True"
   ]
  },
  {
   "cell_type": "code",
   "execution_count": 9,
   "id": "150c127e",
   "metadata": {},
   "outputs": [
    {
     "data": {
      "text/plain": [
       "True"
      ]
     },
     "execution_count": 9,
     "metadata": {},
     "output_type": "execute_result"
    }
   ],
   "source": [
    "def arithmetic(lst):\n",
    "    if len(lst)==1:\n",
    "        return True\n",
    "    d=lst[1]-lst[0]\n",
    "    for i in range(0, len(lst)-1):\n",
    "        if lst[i+1]-lst[i]!=d:\n",
    "            return False\n",
    "    return True\n",
    "arithmetic([3, 6, 9, 12, 15])"
   ]
  },
  {
   "cell_type": "code",
   "execution_count": 10,
   "id": "d773c2e0",
   "metadata": {},
   "outputs": [
    {
     "data": {
      "text/plain": [
       "False"
      ]
     },
     "execution_count": 10,
     "metadata": {},
     "output_type": "execute_result"
    }
   ],
   "source": [
    "arithmetic([3, 6, 9, 11, 14])"
   ]
  },
  {
   "cell_type": "code",
   "execution_count": 11,
   "id": "6119aec5",
   "metadata": {},
   "outputs": [
    {
     "data": {
      "text/plain": [
       "True"
      ]
     },
     "execution_count": 11,
     "metadata": {},
     "output_type": "execute_result"
    }
   ],
   "source": [
    "arithmetic([3])"
   ]
  },
  {
   "cell_type": "markdown",
   "id": "104f6dd6",
   "metadata": {},
   "source": [
    "4. Implement function factorial() that takes as input a nonnegative integer and returns its\n",
    "factorial. The factorial of a nonnegative integer n, denoted n!, is defined in this way:\n",
    "\n",
    "n! ={ 1                                          if n = 0\n",
    "   ={ n × (n − 1) × (n − 2) × ... × 2 × 1        if n > 0\n",
    "\n",
    "So, 0! = 1, 3! = 6, and 5! = 120.\n",
    ">>> factorial(0)\n",
    "1\n",
    ">>> factorial(3)\n",
    "6\n",
    ">>> factorial(5)\n",
    "120"
   ]
  },
  {
   "cell_type": "code",
   "execution_count": 13,
   "id": "2e4463ef",
   "metadata": {},
   "outputs": [
    {
     "data": {
      "text/plain": [
       "24"
      ]
     },
     "execution_count": 13,
     "metadata": {},
     "output_type": "execute_result"
    }
   ],
   "source": [
    "def factorial(n):\n",
    "    if n == 0:\n",
    "        return 1\n",
    "    con=1\n",
    "    for i in range(1,n+1):\n",
    "        con=con*i\n",
    "    return con\n",
    "factorial(4)"
   ]
  },
  {
   "cell_type": "markdown",
   "id": "b778ccce",
   "metadata": {},
   "source": [
    "5. An acronym is a word formed by taking the first letters of the words in a phrase and then\n",
    "making a word from them. For example, RAM is an acronym for random access memory.\n",
    "Write a function acronym() that takes a phrase (i.e., a string) as input and then returns the\n",
    "acronym for that phrase. Note: The acronym should be all uppercase, even if the words in\n",
    "the phrase are not capitalized.\n",
    ">>> acronym('Random access memory')\n",
    "'RAM'\n",
    ">>> acronym('central processing unit')\n",
    "'CPU'"
   ]
  },
  {
   "cell_type": "code",
   "execution_count": 3,
   "id": "650f6a0e",
   "metadata": {},
   "outputs": [
    {
     "name": "stdout",
     "output_type": "stream",
     "text": [
      "['Random', 'access', 'memory']\n"
     ]
    },
    {
     "data": {
      "text/plain": [
       "'RAM'"
      ]
     },
     "execution_count": 3,
     "metadata": {},
     "output_type": "execute_result"
    }
   ],
   "source": [
    "def acronym(phrase):\n",
    "    words = phrase.split() \n",
    "    print(words)\n",
    "    string=''\n",
    "    for word in words:\n",
    "        string+=word[0].upper()\n",
    "    return string\n",
    "acronym('Random access memory')\n"
   ]
  },
  {
   "cell_type": "code",
   "execution_count": 9,
   "id": "974ee581",
   "metadata": {},
   "outputs": [
    {
     "name": "stdout",
     "output_type": "stream",
     "text": [
      "['central', 'processing', 'unit']\n"
     ]
    },
    {
     "data": {
      "text/plain": [
       "'CPU'"
      ]
     },
     "execution_count": 9,
     "metadata": {},
     "output_type": "execute_result"
    }
   ],
   "source": [
    "acronym('central processing unit')"
   ]
  },
  {
   "cell_type": "markdown",
   "id": "c10b94c1",
   "metadata": {},
   "source": [
    "(eg). Write a function abbreviation(phrase) that takes a phrase and returns the abbreviation, where each word is represented by its first two letters (in uppercase).\n",
    ">>> abbreviation(\"machine learning\")\n",
    "'MALE'\n",
    ">>> abbreviation(\"data science\")\n",
    "'DASC'"
   ]
  },
  {
   "cell_type": "code",
   "execution_count": 6,
   "id": "9ac01a02",
   "metadata": {},
   "outputs": [
    {
     "data": {
      "text/plain": [
       "'MALE'"
      ]
     },
     "execution_count": 6,
     "metadata": {},
     "output_type": "execute_result"
    }
   ],
   "source": [
    "def abbreviation(phrase):\n",
    "    words=phrase.split()\n",
    "    s=''\n",
    "    for word in words:\n",
    "        s+=word[:2].upper()\n",
    "    return s\n",
    "abbreviation(\"machine learning\") "
   ]
  },
  {
   "cell_type": "code",
   "execution_count": 8,
   "id": "e53448a2",
   "metadata": {},
   "outputs": [
    {
     "data": {
      "text/plain": [
       "'DASC'"
      ]
     },
     "execution_count": 8,
     "metadata": {},
     "output_type": "execute_result"
    }
   ],
   "source": [
    "abbreviation(\"data science\")"
   ]
  },
  {
   "cell_type": "markdown",
   "id": "37bb1bfd",
   "metadata": {},
   "source": [
    "6. Write function divisors() that takes a positive integer n as input and returns the list of\n",
    "all positive divisors of n.\n",
    ">>> divisors(1)\n",
    "[1]divisors(6)\n",
    ">>> \n",
    "[1, 2, 3, 6]\n",
    ">>> divisors(11)\n",
    "[1, 11]"
   ]
  },
  {
   "cell_type": "code",
   "execution_count": 13,
   "id": "7b6ce861",
   "metadata": {},
   "outputs": [
    {
     "data": {
      "text/plain": [
       "[1, 2, 3, 6]"
      ]
     },
     "execution_count": 13,
     "metadata": {},
     "output_type": "execute_result"
    }
   ],
   "source": [
    "def divisors(n):\n",
    "    list=[]\n",
    "    for i in range(1,n+1):\n",
    "        if n%i==0:\n",
    "            list.append(i)\n",
    "    return list\n",
    "divisors(6)\n"
   ]
  },
  {
   "cell_type": "code",
   "execution_count": 15,
   "id": "dfa1b556",
   "metadata": {},
   "outputs": [
    {
     "data": {
      "text/plain": [
       "[1, 11]"
      ]
     },
     "execution_count": 15,
     "metadata": {},
     "output_type": "execute_result"
    }
   ],
   "source": [
    "divisors(11)"
   ]
  },
  {
   "cell_type": "markdown",
   "id": "f2a3d9bb",
   "metadata": {},
   "source": [
    "7. Write a function xmult() that takes two lists of integers as input and returns a list containing\n",
    "all products of integers from the first list with the integers from the second list.\n",
    ">>> xmult([2], [1, 5])\n",
    "[2, 10]\n",
    ">>> xmult([2, 3], [1, 5])\n",
    "[2, 10, 3, 15]\n",
    ">>> xmult([3, 4, 1], [2, 0])\n",
    "[6, 0, 8, 0, 2, 0]"
   ]
  },
  {
   "cell_type": "code",
   "execution_count": 31,
   "id": "d679fc90",
   "metadata": {},
   "outputs": [
    {
     "data": {
      "text/plain": [
       "[2, 10]"
      ]
     },
     "execution_count": 31,
     "metadata": {},
     "output_type": "execute_result"
    }
   ],
   "source": [
    "def xmult(lst1,lst2):\n",
    "    lst=[]\n",
    "    for i in lst1:\n",
    "        for j in lst2:\n",
    "            mult_num=i*j\n",
    "            lst.append(mult_num)\n",
    "    return lst\n",
    "xmult([2], [1, 5])"
   ]
  },
  {
   "cell_type": "code",
   "execution_count": 32,
   "id": "65912ce4",
   "metadata": {},
   "outputs": [
    {
     "data": {
      "text/plain": [
       "[2, 10, 3, 15]"
      ]
     },
     "execution_count": 32,
     "metadata": {},
     "output_type": "execute_result"
    }
   ],
   "source": [
    "xmult([2, 3], [1, 5])"
   ]
  },
  {
   "cell_type": "code",
   "execution_count": 33,
   "id": "0ae8041d",
   "metadata": {},
   "outputs": [
    {
     "data": {
      "text/plain": [
       "[6, 0, 8, 0, 2, 0]"
      ]
     },
     "execution_count": 33,
     "metadata": {},
     "output_type": "execute_result"
    }
   ],
   "source": [
    "xmult([3, 4, 1], [2, 0])"
   ]
  },
  {
   "cell_type": "markdown",
   "id": "db325d61",
   "metadata": {},
   "source": [
    "8. One way to sort a list of n different numbers in increasing order is to execute n − 1 passes\n",
    "over the numbers in the list. Each pass compares all adjacent numbers in the list and swaps\n",
    "them if they are out of order. At the end of the first pass, the largest item will be the last in\n",
    "the list (at index n−1). Therefore, the second pass can stop before reaching the last element,\n",
    "as it is already in the right position; the second pass will place the second largest item in the\n",
    "next to last position. In general, pass i will compare pairs at indexes 0 and 1, 1 and 2, 2 and\n",
    "3, . . . , and i − 1 and i; at the end of the pass, the ith largest item will be at index n − i.\n",
    "Therefore, after pass n − 1, the list will be in increasing order.\n",
    "Write a function bubbleSort() that takes a list of numbers as input and sorts the list\n",
    "using this approach.\n",
    ">>> lst = [3, 1, 7, 4, 9, 2, 5]\n",
    ">>> bubblesort(lst)\n",
    ">>> lst\n",
    "[1, 2, 3, 4, 5, 7, 9]"
   ]
  },
  {
   "cell_type": "code",
   "execution_count": 7,
   "id": "853d6ae1",
   "metadata": {},
   "outputs": [
    {
     "name": "stdout",
     "output_type": "stream",
     "text": [
      "0\n",
      "1\n",
      "2\n",
      "3\n",
      "4\n",
      "5\n"
     ]
    }
   ],
   "source": [
    "lst = [3, 1, 7, 4, 9, 2, 5]\n",
    "for i in range(len(lst)-1):\n",
    "    print(i)\n"
   ]
  },
  {
   "cell_type": "code",
   "execution_count": 8,
   "id": "119bf18f",
   "metadata": {},
   "outputs": [
    {
     "data": {
      "text/plain": [
       "7"
      ]
     },
     "execution_count": 8,
     "metadata": {},
     "output_type": "execute_result"
    }
   ],
   "source": [
    "len(lst)"
   ]
  },
  {
   "cell_type": "code",
   "execution_count": null,
   "id": "bad35878",
   "metadata": {},
   "outputs": [
    {
     "name": "stdout",
     "output_type": "stream",
     "text": [
      "Final Sorted List: [1, 2, 3, 4, 5, 7, 9]\n"
     ]
    }
   ],
   "source": [
    "def bubbleSort(lst):\n",
    "    n = len(lst)\n",
    "    for pass_num in range(n - 1):          \n",
    "        for i in range(n - 1 - pass_num):  \n",
    "            if lst[i] > lst[i + 1]:        \n",
    "                lst[i], lst[i + 1] = lst[i + 1], lst[i]\n",
    "    print( lst)\n",
    "\n",
    "lst = [3, 1, 7, 4, 9, 2, 5]\n",
    "bubbleSort(lst)\n"
   ]
  },
  {
   "cell_type": "markdown",
   "id": "e08621b9",
   "metadata": {},
   "source": [
    "selectionSort\n",
    "\n",
    "(eg). Write a function selectionSort(lst) that sorts a list by repeatedly finding the smallest element in the unsorted portion and putting it at the beginning.\n",
    "lst = [64, 25, 12, 22, 11]\n",
    "selectionSort(lst)\n",
    "Output: [11, 12, 22, 25, 64]"
   ]
  },
  {
   "cell_type": "code",
   "execution_count": 17,
   "id": "6f5fff13",
   "metadata": {},
   "outputs": [
    {
     "name": "stdout",
     "output_type": "stream",
     "text": [
      "[11, 12, 22, 25, 64]\n"
     ]
    }
   ],
   "source": [
    "def selectionSort(lst):\n",
    "    n = len(lst)\n",
    "    for i in range(n - 1):  \n",
    "        min_index = i       \n",
    "        for j in range(i + 1, n):\n",
    "            if lst[j] < lst[min_index]:\n",
    "                min_index = j\n",
    "\n",
    "        if min_index != i:\n",
    "            lst[i], lst[min_index] = lst[min_index], lst[i]\n",
    "\n",
    "\n",
    "lst = [64, 25, 12, 22, 11]\n",
    "selectionSort(lst)\n",
    "print(lst)  \n"
   ]
  },
  {
   "cell_type": "markdown",
   "id": "da2efec4",
   "metadata": {},
   "source": [
    "(eg)Insertion Sort\n",
    "Implement insertionSort(lst) that builds the sorted list one element at a time by inserting each element into its correct place.\n",
    "lst = [5, 3, 8, 4, 2]\n",
    "insertionSort(lst)\n",
    "Output: [2, 3, 4, 5, 8]"
   ]
  },
  {
   "cell_type": "code",
   "execution_count": null,
   "id": "6725a6d9",
   "metadata": {},
   "outputs": [],
   "source": []
  },
  {
   "cell_type": "markdown",
   "id": "8d8f50ef",
   "metadata": {},
   "source": [
    "9. Write a function add2D() that takes two two-dimensional lists of same size (i.e., same number of rows and columns) as input arguments and increments every entry in the first list with\n",
    "the value of the corresponding entry in the second list.\n",
    ">>> t = [[4, 7, 2, 5], [5, 1, 9, 2], [8, 3, 6, 6]]\n",
    ">>> s = [[0, 1, 2, 0], [0, 1, 1, 1], [0, 1, 0, 0]]\n",
    ">>> add2D(t,s)\n",
    ">>> for row in t:\n",
    "print(row)\n",
    "[4, 8, 4, 5]\n",
    "[5, 2, 10, 3]\n",
    "[8, 4, 6, 6]"
   ]
  },
  {
   "cell_type": "code",
   "execution_count": null,
   "id": "c6db52fa",
   "metadata": {},
   "outputs": [],
   "source": []
  },
  {
   "cell_type": "markdown",
   "id": "eff615bc",
   "metadata": {},
   "source": [
    "10. Write a function interest() that takes one input, a floating-point interest rate (e.g., 0.06\n",
    "which corresponds to a 6% interest rate). Your function should compute and return how\n",
    "long (in years) it will take for an investment to double in value. Note: The number of years\n",
    "it takes for an investment to double does not depend on the value of the initial investment.\n",
    ">>> interest(0.07)\n",
    "11"
   ]
  },
  {
   "cell_type": "code",
   "execution_count": 16,
   "id": "a5f00e11",
   "metadata": {},
   "outputs": [
    {
     "data": {
      "text/plain": [
       "10"
      ]
     },
     "execution_count": 16,
     "metadata": {},
     "output_type": "execute_result"
    }
   ],
   "source": [
    "import math\n",
    "def interest(r):\n",
    "    t=math.log(2)/math.log(1+r)\n",
    "    return round(t)\n",
    "interest(0.07)\n",
    "                            \n",
    "                            "
   ]
  },
  {
   "cell_type": "code",
   "execution_count": 18,
   "id": "8a5effcb",
   "metadata": {},
   "outputs": [
    {
     "data": {
      "text/plain": [
       "11"
      ]
     },
     "execution_count": 18,
     "metadata": {},
     "output_type": "execute_result"
    }
   ],
   "source": [
    "def interest(r):\n",
    "    value = 1          \n",
    "    years = 0\n",
    "    while value < 2:   \n",
    "        value *= (1 + r) \n",
    "        years += 1       \n",
    "    return years\n",
    "interest(0.07)"
   ]
  },
  {
   "cell_type": "markdown",
   "id": "0839d7fa",
   "metadata": {},
   "source": [
    "11. It is known that the precise value of e is equal to this infinite sum:\n",
    "1\n",
    "0! +\n",
    "1\n",
    "1! +\n",
    "1\n",
    "2! +\n",
    "1\n",
    "3! +\n",
    "1\n",
    "4! +\n",
    "1\n",
    "5! + . . .\n",
    "An infinite sum is impossible to compute. We can get an approximation of e by computing\n",
    "the sum of the first few terms in the infinite sum. For example, eo =\n",
    "1\n",
    "0! = 1 is a (lousy)\n",
    "approximation for e. The next sum, e1 =\n",
    "1\n",
    "0! +\n",
    "1\n",
    "1! = 2, is better but still quite bad. The next\n",
    "one, e2 =\n",
    "1\n",
    "0! +\n",
    "1\n",
    "1! +\n",
    "1\n",
    "2! = 2.5, looks better. The next few sums show that we are heading in\n",
    "the right direction:\n",
    "e3 =\n",
    "1\n",
    "0! +\n",
    "1\n",
    "1! +\n",
    "1\n",
    "2! +\n",
    "1\n",
    "3! = 2.6666 . . .\n",
    "e4 =\n",
    "1\n",
    "0! +\n",
    "1\n",
    "1! +\n",
    "1\n",
    "2! +\n",
    "1\n",
    "3! +\n",
    "1\n",
    "4! = 2.7083 . . .\n",
    "Now, because, e4 − e3 =\n",
    "1\n",
    "4! >\n",
    "1\n",
    "5! +\n",
    "1\n",
    "6! +\n",
    "1\n",
    "7! + . . . , we know that e4 is within 1\n",
    "4! of the\n",
    "actual value for e. This gives us a way to compute an approximation of e that is guaranteed\n",
    "to be within a given range of the true value of e.\n",
    "Write a function approxE() that takes as input a float value error and returns a value\n",
    "that approximates constant e to within error. You will do this by generating the sequence\n",
    "of approximation e0, e1, e2, . . . until the difference between the current approximation\n",
    "and the previous one is no greater than error.\n",
    ">>> approxE(0.01)\n",
    "2.7166666666666663\n",
    ">>> approxE(0.000000001)\n",
    "2.7182818284467594"
   ]
  },
  {
   "cell_type": "code",
   "execution_count": null,
   "id": "f1d15ec9",
   "metadata": {},
   "outputs": [],
   "source": []
  },
  {
   "cell_type": "markdown",
   "id": "7615c83b",
   "metadata": {},
   "source": [
    "12. Implement function test() that takes as input one integer and prints 'Negative',\n",
    "'Zero', or 'Positive' depending on its value.\n",
    ">>> test(-3)\n",
    "Negative\n",
    ">>> test(0)\n",
    "Zero\n",
    ">>> test(3)\n",
    "Positive"
   ]
  },
  {
   "cell_type": "code",
   "execution_count": 23,
   "id": "51ce85b0",
   "metadata": {},
   "outputs": [
    {
     "name": "stdout",
     "output_type": "stream",
     "text": [
      "Negative\n"
     ]
    }
   ],
   "source": [
    "def test(n):\n",
    "    if n>0:\n",
    "        print('Positive')\n",
    "    elif n==0:\n",
    "        print('Zero')\n",
    "    else:\n",
    "        print('Negative')\n",
    "\n",
    "test(-3)"
   ]
  },
  {
   "cell_type": "code",
   "execution_count": 24,
   "id": "8a18865c",
   "metadata": {},
   "outputs": [
    {
     "name": "stdout",
     "output_type": "stream",
     "text": [
      "Zero\n"
     ]
    }
   ],
   "source": [
    "test(0)"
   ]
  },
  {
   "cell_type": "code",
   "execution_count": 25,
   "id": "e5684621",
   "metadata": {},
   "outputs": [
    {
     "name": "stdout",
     "output_type": "stream",
     "text": [
      "Positive\n"
     ]
    }
   ],
   "source": [
    "test(3)"
   ]
  },
  {
   "cell_type": "markdown",
   "id": "3e311364",
   "metadata": {},
   "source": [
    "14. Write function mult3() that takes as input a list of integers and prints only the mul-\n",
    "tiples of 3, one per line.\n",
    "\n",
    ">>> mult3([3, 1, 6, 2, 3, 9, 7, 9, 5, 4, 5])\n",
    "3\n",
    "6\n",
    "3\n",
    "9\n",
    "9"
   ]
  },
  {
   "cell_type": "code",
   "execution_count": 26,
   "id": "cb1f16ec",
   "metadata": {},
   "outputs": [
    {
     "name": "stdout",
     "output_type": "stream",
     "text": [
      "3\n",
      "6\n",
      "3\n",
      "9\n",
      "9\n"
     ]
    }
   ],
   "source": [
    "def mult3(lst):\n",
    "    for i in lst:\n",
    "        if i%3==0:\n",
    "            print(i)\n",
    "mult3([3, 1, 6, 2, 3, 9, 7, 9, 5, 4, 5])"
   ]
  },
  {
   "cell_type": "markdown",
   "id": "e57adf1c",
   "metadata": {},
   "source": [
    "15. Implement the function vowels() that takes as input a string and prints the indexes of\n",
    "all vowels in the string. Hint: A vowel can be defined as any character in string 'aeiouAEIOU'\n",
    ">>> vowels('Hello WORLD')\n",
    "1\n",
    "4\n",
    "7"
   ]
  },
  {
   "cell_type": "code",
   "execution_count": 27,
   "id": "f76452ea",
   "metadata": {},
   "outputs": [
    {
     "name": "stdout",
     "output_type": "stream",
     "text": [
      "1\n",
      "4\n",
      "7\n"
     ]
    }
   ],
   "source": [
    "def vowels(s):\n",
    "    vowel='aeiouAEIOU'\n",
    "    n=len(s)\n",
    "    for i in range(n):\n",
    "        if s[i] in vowel:\n",
    "            print(i)\n",
    "vowels('Hello WORLD')"
   ]
  },
  {
   "cell_type": "code",
   "execution_count": 29,
   "id": "eaf06009",
   "metadata": {},
   "outputs": [
    {
     "name": "stdout",
     "output_type": "stream",
     "text": [
      "1\n",
      "4\n",
      "7\n"
     ]
    }
   ],
   "source": [
    "def vowels(string):\n",
    "    vowel='aeiouAEIOU'\n",
    "    for n,letter in enumerate(string):\n",
    "        if letter in vowel:\n",
    "            print(n)\n",
    "vowels('Hello WORLD')"
   ]
  },
  {
   "cell_type": "markdown",
   "id": "0ef85d71",
   "metadata": {},
   "source": [
    "16. Implement function indexes() that takes as input a word (as a string) and a one-\n",
    "character letter (as a string) and returns a list of indexes at which the letter occurs in the\n",
    "\n",
    "word.\n",
    ">>> indexes('mississippi', 's')\n",
    "[2, 3, 5, 6]\n",
    ">>> indexes('mississippi', 'i')\n",
    "[1, 4, 7, 10]\n",
    ">>> indexes('mississippi', 'a')"
   ]
  },
  {
   "cell_type": "code",
   "execution_count": 2,
   "id": "01bc6a82",
   "metadata": {},
   "outputs": [
    {
     "data": {
      "text/plain": [
       "[2, 3, 5, 6]"
      ]
     },
     "execution_count": 2,
     "metadata": {},
     "output_type": "execute_result"
    }
   ],
   "source": [
    "def indexes(word, letter):\n",
    "    lst=[]\n",
    "    for n,ltr in enumerate(word):\n",
    "        if ltr==letter:\n",
    "            lst.append(n)\n",
    "    return lst\n",
    "indexes('mississippi', 's')            "
   ]
  },
  {
   "cell_type": "code",
   "execution_count": 34,
   "id": "d604f9a0",
   "metadata": {},
   "outputs": [
    {
     "data": {
      "text/plain": [
       "[1, 4, 7, 10]"
      ]
     },
     "execution_count": 3,
     "metadata": {},
     "output_type": "execute_result"
    }
   ],
   "source": [
    "indexes('mississippi', 'i')"
   ]
  },
  {
   "cell_type": "code",
   "execution_count": 1,
   "id": "57fa14d9",
   "metadata": {},
   "outputs": [
    {
     "data": {
      "text/plain": [
       "[]"
      ]
     },
     "execution_count": 4,
     "metadata": {},
     "output_type": "execute_result"
    }
   ],
   "source": [
    "indexes('mississippi', 'a')"
   ]
  },
  {
   "cell_type": "markdown",
   "id": "ae514606",
   "metadata": {},
   "source": [
    "17. Write function doubles() that takes as input a list of integers and outputs the integers\n",
    "in the list that are exactly twice the previous integer in the list, one per line.\n",
    ">>> doubles([3, 0, 1, 2, 3, 6, 2, 4, 5, 6, 5])\n",
    "2\n",
    "6\n",
    "4"
   ]
  },
  {
   "cell_type": "code",
   "execution_count": null,
   "id": "aea94cc7",
   "metadata": {},
   "outputs": [
    {
     "name": "stdout",
     "output_type": "stream",
     "text": [
      "2\n",
      "6\n",
      "4\n"
     ]
    }
   ],
   "source": [
    "def doubles(lst):\n",
    "    n=len(lst)\n",
    "    for i in range(n-1):\n",
    "        if lst[i+1]==2*lst[i]:\n",
    "            print(lst[i+1])\n",
    "doubles([3, 0, 1, 2, 3, 6, 2, 4, 5, 6, 5])"
   ]
  },
  {
   "cell_type": "markdown",
   "id": "287a5daa",
   "metadata": {},
   "source": [
    "18. Implement function four_letter() that takes as input a list of words (i.e., strings)\n",
    "and returns the sublist of all four letter words in the list.\n",
    ">>> four_letter(['dog', 'letter', 'stop', 'door', 'bus', 'dust'])\n",
    "['stop', 'door', 'dust']"
   ]
  },
  {
   "cell_type": "code",
   "execution_count": 14,
   "id": "88382dbb",
   "metadata": {},
   "outputs": [
    {
     "data": {
      "text/plain": [
       "['stop', 'door', 'dust']"
      ]
     },
     "execution_count": 14,
     "metadata": {},
     "output_type": "execute_result"
    }
   ],
   "source": [
    "def four_letter(lst):\n",
    "    word_lst=[]\n",
    "    for word in lst:\n",
    "        if len(word)==4:\n",
    "            word_lst.append(word)\n",
    "    return word_lst\n",
    "four_letter(['dog', 'letter', 'stop', 'door', 'bus', 'dust'])"
   ]
  },
  {
   "cell_type": "markdown",
   "id": "d7f937b8",
   "metadata": {},
   "source": [
    "19. Write a function inBoth() that takes two lists and returns True if there is an item\n",
    "that is common to both lists and False otherwise.\n",
    ">>> inBoth([3, 2, 5, 4, 7], [9, 0, 1, 3])\n",
    "True"
   ]
  },
  {
   "cell_type": "code",
   "execution_count": 36,
   "id": "76f28f9f",
   "metadata": {},
   "outputs": [
    {
     "data": {
      "text/plain": [
       "True"
      ]
     },
     "execution_count": 36,
     "metadata": {},
     "output_type": "execute_result"
    }
   ],
   "source": [
    "def inBoth(lst1,lst2):\n",
    "    for i in lst1:\n",
    "        for j in lst2:\n",
    "            if i==j:\n",
    "                return True\n",
    "    return False\n",
    "inBoth([3, 2, 5, 4, 7],[9, 0, 1, 3])"
   ]
  },
  {
   "cell_type": "code",
   "execution_count": 37,
   "id": "77cd4e70",
   "metadata": {},
   "outputs": [
    {
     "data": {
      "text/plain": [
       "False"
      ]
     },
     "execution_count": 37,
     "metadata": {},
     "output_type": "execute_result"
    }
   ],
   "source": [
    "inBoth([3, 2, 5, 4, 7],[9, 0, 1])"
   ]
  },
  {
   "cell_type": "markdown",
   "id": "352ea1e5",
   "metadata": {},
   "source": [
    "20. Write a function intersect() that takes two lists, each containing no duplicate val-\n",
    "ues, and returns a list containing values that are present in both lists (i.e., the intersection of\n",
    "\n",
    "the two input lists).\n",
    ">>> intersect([3, 5, 1, 7, 9], [4, 2, 6, 3, 9])\n",
    "[3, 9]"
   ]
  },
  {
   "cell_type": "code",
   "execution_count": 40,
   "id": "b73a2cba",
   "metadata": {},
   "outputs": [
    {
     "data": {
      "text/plain": [
       "[3, 9]"
      ]
     },
     "execution_count": 40,
     "metadata": {},
     "output_type": "execute_result"
    }
   ],
   "source": [
    "def intersect(lst1,lst2):\n",
    "    lst=[]\n",
    "    for i in lst1:\n",
    "        for j in lst2:\n",
    "            if i==j:\n",
    "                lst.append(i)\n",
    "    return lst\n",
    "intersect([3, 5, 1, 7, 9], [4, 2, 6, 3, 9])    "
   ]
  },
  {
   "cell_type": "markdown",
   "id": "8791e685",
   "metadata": {},
   "source": [
    "21. Implement the function pair() that takes as input two lists of integers and one integer\n",
    "n and prints the pairs of integers, one from the first input list and the other from the second\n",
    "input list, that add up to n. Each pair should be printed.\n",
    ">>> pair([2, 3, 4], [5, 7, 9, 12], 9)\n",
    "2 7\n",
    "4 5"
   ]
  },
  {
   "cell_type": "code",
   "execution_count": 42,
   "id": "b3ec1051",
   "metadata": {},
   "outputs": [
    {
     "name": "stdout",
     "output_type": "stream",
     "text": [
      "2 7\n",
      "4 5\n"
     ]
    }
   ],
   "source": [
    "def pair(lst1,lst2,int):\n",
    "    for i in lst1:\n",
    "        for j in lst2:\n",
    "            if i+j==int:\n",
    "                print(i,j)\n",
    "pair([2, 3, 4], [5, 7, 9, 12], 9)"
   ]
  },
  {
   "cell_type": "markdown",
   "id": "3a518b11",
   "metadata": {},
   "source": [
    "22. Implement the function pairSum() that takes as input a list of distinct integers lst\n",
    "and an integer n, and prints the indexes of all pairs of values in lst that sum up to n.\n",
    ">>> pairSum([7, 8, 5, 3, 4, 6], 11)\n",
    "0 4\n",
    "1 3\n",
    "2 5"
   ]
  },
  {
   "cell_type": "code",
   "execution_count": 46,
   "id": "a01ed978",
   "metadata": {},
   "outputs": [
    {
     "name": "stdout",
     "output_type": "stream",
     "text": [
      "0 4\n",
      "1 3\n",
      "2 5\n"
     ]
    }
   ],
   "source": [
    "def pairSum(lst,int):\n",
    "    n=len(lst)\n",
    "    for i in range(n):\n",
    "        for j in range(i,n):\n",
    "            if lst[i]+lst[j]==int:\n",
    "                print(i,j)\n",
    "pairSum([7, 8, 5, 3, 4, 6], 11)"
   ]
  },
  {
   "cell_type": "markdown",
   "id": "61c47241",
   "metadata": {},
   "source": [
    "23. Write function pay() that takes as input an hourly wage and the number of hours an\n",
    "employee worked in the last week. The function should compute and return the employee’s\n",
    "pay. Overtime work should be paid in this way: Any hours beyond 40 but less than or equal\n",
    "60 should be paid at 1.5 times the regular hourly wage. Any hours beyond 60 should be paid\n",
    "at 2 times the regular hourly wage.\n",
    ">>> pay(10, 35)\n",
    "350\n",
    ">>> pay(10, 45)\n",
    "475.0\n",
    ">>> pay(10, 61)\n",
    "720.0"
   ]
  },
  {
   "cell_type": "code",
   "execution_count": 75,
   "id": "aa1cdb10",
   "metadata": {},
   "outputs": [
    {
     "data": {
      "text/plain": [
       "475.0"
      ]
     },
     "execution_count": 75,
     "metadata": {},
     "output_type": "execute_result"
    }
   ],
   "source": [
    "def pay(hrly_wage,hr):\n",
    "    pay=40*hrly_wage\n",
    "    if 40<hr<=60:\n",
    "        over_time=hr-40\n",
    "        over_pay=over_time*1.5*hrly_wage\n",
    "        pay1=over_pay+pay\n",
    "        return pay1\n",
    "    elif hr>60:\n",
    "        over_time1=20\n",
    "        over_time2=hr-60\n",
    "        over_pay1=over_time1*1.5*hrly_wage\n",
    "        over_pay2=over_time2*2*hrly_wage\n",
    "        pay2=over_pay1+over_pay2+pay\n",
    "        return pay2\n",
    "    else:\n",
    "        pay3=hr*hrly_wage\n",
    "        return pay3\n",
    "pay(10, 45)"
   ]
  },
  {
   "cell_type": "code",
   "execution_count": 76,
   "id": "48995605",
   "metadata": {},
   "outputs": [
    {
     "data": {
      "text/plain": [
       "720.0"
      ]
     },
     "execution_count": 76,
     "metadata": {},
     "output_type": "execute_result"
    }
   ],
   "source": [
    "pay(10, 61)"
   ]
  },
  {
   "cell_type": "code",
   "execution_count": 77,
   "id": "94f3ef5d",
   "metadata": {},
   "outputs": [
    {
     "data": {
      "text/plain": [
       "350"
      ]
     },
     "execution_count": 77,
     "metadata": {},
     "output_type": "execute_result"
    }
   ],
   "source": [
    "pay(10, 35)"
   ]
  },
  {
   "cell_type": "markdown",
   "id": "12563778",
   "metadata": {},
   "source": [
    "24. Write function case() that takes a string as input and returns 'capitalized', 'not\n",
    "capitalized', or 'unknown', depending on whether the string starts with an uppercase\n",
    "letter, lowercase letter, or something other than a letter in the English alphabet, respectively.\n",
    ">>> case('Android')\n",
    "'capitalized'\n",
    ">>> case('3M')\n",
    "'unknown'"
   ]
  },
  {
   "cell_type": "code",
   "execution_count": 82,
   "id": "e53444b5",
   "metadata": {},
   "outputs": [
    {
     "name": "stdout",
     "output_type": "stream",
     "text": [
      "capitalized\n"
     ]
    }
   ],
   "source": [
    "def case(string):\n",
    "    s=string[0]\n",
    "    if s.isupper():\n",
    "        print('capitalized')\n",
    "    elif s.islower():\n",
    "        print('notcapitalized')\n",
    "    else:\n",
    "        print('unknown')\n",
    "case('Android')"
   ]
  },
  {
   "cell_type": "code",
   "execution_count": 83,
   "id": "c66a884a",
   "metadata": {},
   "outputs": [
    {
     "name": "stdout",
     "output_type": "stream",
     "text": [
      "unknown\n"
     ]
    }
   ],
   "source": [
    "case('3M')"
   ]
  },
  {
   "cell_type": "markdown",
   "id": "c4aad15f",
   "metadata": {},
   "source": [
    "25. Implement function leap() that takes one input argument—a year—and returns True\n",
    "if the year is a leap year and False otherwise. (A year is a leap year if it is divisible by 4 but\n",
    "not by 100, unless it is divisible by 400 in which case it is a leap year. For example, 1700,\n",
    "1800 and 1900 are not leap years but 1600 and 2000 are.)\n",
    ">>> leap(2008)\n",
    "True\n",
    ">>> leap(1900)\n",
    "False\n",
    ">>> leap(2000)\n",
    "True"
   ]
  },
  {
   "cell_type": "code",
   "execution_count": 93,
   "id": "a4944ae0",
   "metadata": {},
   "outputs": [
    {
     "data": {
      "text/plain": [
       "True"
      ]
     },
     "execution_count": 93,
     "metadata": {},
     "output_type": "execute_result"
    }
   ],
   "source": [
    "def leap(year):\n",
    "    if year % 400 == 0:\n",
    "        return True\n",
    "    elif year % 100 == 0:\n",
    "        return False\n",
    "    elif year % 4 == 0:\n",
    "        return True\n",
    "    else:\n",
    "        return False\n",
    "leap(2008)"
   ]
  },
  {
   "cell_type": "code",
   "execution_count": 94,
   "id": "e0c2443a",
   "metadata": {},
   "outputs": [
    {
     "data": {
      "text/plain": [
       "False"
      ]
     },
     "execution_count": 94,
     "metadata": {},
     "output_type": "execute_result"
    }
   ],
   "source": [
    "leap(1900)"
   ]
  },
  {
   "cell_type": "code",
   "execution_count": 95,
   "id": "43c47fc6",
   "metadata": {},
   "outputs": [
    {
     "data": {
      "text/plain": [
       "True"
      ]
     },
     "execution_count": 95,
     "metadata": {},
     "output_type": "execute_result"
    }
   ],
   "source": [
    "leap(2000)"
   ]
  },
  {
   "cell_type": "markdown",
   "id": "2c1616a3",
   "metadata": {},
   "source": [
    "26. Rock, Paper, Scissors is a two-player game in which each player chooses one of three\n",
    "items. If both players choose the same item, the game is tied. Otherwise, the rules that\n",
    "determine the winner are:\n",
    "(a) Rock always beats Scissors (Rock crushes Scissors)\n",
    "(b) Scissors always beats Paper (Scissors cut Paper)\n",
    "(c) Paper always beats Rock (Paper covers Rock)\n",
    "Implement function rps() that takes the choice ('R', 'P', or 'S') of player 1 and the\n",
    "choice of player 2, and returns −1 if player 1 wins, 1 if player 2 wins, or 0 if there is a tie.\n",
    ">>> rps('R', 'P')\n",
    "1\n",
    ">>> rps('R', 'S')\n",
    "-1\n",
    ">>> rps('S', 'S')\n",
    "0"
   ]
  },
  {
   "cell_type": "code",
   "execution_count": 99,
   "id": "5d7f2c53",
   "metadata": {},
   "outputs": [
    {
     "name": "stdout",
     "output_type": "stream",
     "text": [
      "1\n"
     ]
    }
   ],
   "source": [
    "def rps(c1,c2):\n",
    "    if c1==c2:\n",
    "        print(0)\n",
    "    elif (c1=='R' and c2=='S') or (c1=='S' and c2=='P') or (c1=='P' and c2=='R'):\n",
    "        print(-1)\n",
    "    else:\n",
    "        print(1)\n",
    "rps('R', 'P')"
   ]
  },
  {
   "cell_type": "code",
   "execution_count": 100,
   "id": "07208635",
   "metadata": {},
   "outputs": [
    {
     "name": "stdout",
     "output_type": "stream",
     "text": [
      "-1\n"
     ]
    }
   ],
   "source": [
    "rps('R', 'S')"
   ]
  },
  {
   "cell_type": "code",
   "execution_count": 101,
   "id": "7ad75474",
   "metadata": {},
   "outputs": [
    {
     "name": "stdout",
     "output_type": "stream",
     "text": [
      "0\n"
     ]
    }
   ],
   "source": [
    "rps('S', 'S')"
   ]
  },
  {
   "cell_type": "markdown",
   "id": "a7a69890",
   "metadata": {},
   "source": [
    "27. Write function letter2number() that takes as input a letter grade (A, B, C, D, F, possibly with a − or +) and returns the \n",
    "corresponding number grade. The numeric values for A, B, C, D, and F are 4, 3, 2, 1, 0. A + increases the number grade value by 0.3 and a −\n",
    "decreases it by 0.3.\n",
    ">>> letter2number('A-')\n",
    "3.7\n",
    ">>> letter2number('B+')\n",
    "3.3\n",
    ">>> letter2number('D')\n",
    "1.0"
   ]
  },
  {
   "cell_type": "code",
   "execution_count": 152,
   "id": "7b841df4",
   "metadata": {},
   "outputs": [
    {
     "data": {
      "text/plain": [
       "3.7"
      ]
     },
     "execution_count": 152,
     "metadata": {},
     "output_type": "execute_result"
    }
   ],
   "source": [
    "def letter2number(grade):\n",
    "    grades = ['A', 'B', 'C', 'D', 'F']\n",
    "    values = [4, 3, 2, 1, 0]\n",
    "\n",
    "    for i in range(len(grades)):\n",
    "        if grade[0] == grades[i]:\n",
    "            if len(grade) > 1 and grade[1] == '+':\n",
    "                return values[i] + 0.3\n",
    "            elif len(grade) > 1 and grade[1] == '-':\n",
    "                return values[i] - 0.3\n",
    "            else:\n",
    "                return values[i]\n",
    "letter2number('A-')"
   ]
  },
  {
   "cell_type": "code",
   "execution_count": 153,
   "id": "977d97a1",
   "metadata": {},
   "outputs": [
    {
     "data": {
      "text/plain": [
       "3.3"
      ]
     },
     "execution_count": 153,
     "metadata": {},
     "output_type": "execute_result"
    }
   ],
   "source": [
    "letter2number('B+')"
   ]
  },
  {
   "cell_type": "code",
   "execution_count": 154,
   "id": "3a44bbbc",
   "metadata": {},
   "outputs": [
    {
     "data": {
      "text/plain": [
       "1"
      ]
     },
     "execution_count": 154,
     "metadata": {},
     "output_type": "execute_result"
    }
   ],
   "source": [
    "letter2number('D')"
   ]
  },
  {
   "cell_type": "markdown",
   "id": "44063871",
   "metadata": {},
   "source": [
    "28. Write function geometric() that takes a list of integers as input and returns True if\n",
    "the integers in the list form a geometric sequence. A sequence a0, a1, a2, a3, a4, . . . , an−2,\n",
    "an − 1 is a geometric sequence if the ratios a1/a0, a2/a1, a3/a2, a4/a3, . . . , an−1/an−2\n",
    "are all equal.\n",
    ">>> geometric([2, 4, 8, 16, 32, 64, 128, 256])\n",
    "True\n",
    ">>> geometric([2, 4, 6, 8])\n",
    "False"
   ]
  },
  {
   "cell_type": "code",
   "execution_count": 117,
   "id": "dd80ab3c",
   "metadata": {},
   "outputs": [
    {
     "data": {
      "text/plain": [
       "True"
      ]
     },
     "execution_count": 117,
     "metadata": {},
     "output_type": "execute_result"
    }
   ],
   "source": [
    "def geometric(lst):\n",
    "    n=len(lst)\n",
    "    ratio=lst[1]/lst[0]\n",
    "    for i in range(n-1):\n",
    "        if lst[i+1]/lst[i]!=ratio:\n",
    "            return False\n",
    "    else:\n",
    "        return True\n",
    "geometric([2, 4, 8, 16, 32, 64, 128, 256])"
   ]
  },
  {
   "cell_type": "code",
   "execution_count": 118,
   "id": "12f53677",
   "metadata": {},
   "outputs": [
    {
     "data": {
      "text/plain": [
       "False"
      ]
     },
     "execution_count": 118,
     "metadata": {},
     "output_type": "execute_result"
    }
   ],
   "source": [
    "geometric([2, 4, 6, 8])"
   ]
  },
  {
   "cell_type": "markdown",
   "id": "b3a56b25",
   "metadata": {},
   "source": [
    "29. Write function lastfirst() that takes one argument—a list of strings of the format\n",
    "<LastName, FirstName>—and returns a list consisting two lists:\n",
    "(a) A list of all the first names\n",
    "(b) A list of all the last names\n",
    ">>> lastfirst(['Gerber, Len', 'Fox, Kate', 'Dunn, Bob'])\n",
    "[['Len', 'Kate', 'Bob'], ['Gerber', 'Fox', 'Dunn']]"
   ]
  },
  {
   "cell_type": "code",
   "execution_count": 1,
   "id": "6008b2d0",
   "metadata": {},
   "outputs": [
    {
     "data": {
      "text/plain": [
       "[['Gerber', 'Fox', 'Dunn'], [' Len', ' Kate', ' Bob']]"
      ]
     },
     "execution_count": 1,
     "metadata": {},
     "output_type": "execute_result"
    }
   ],
   "source": [
    "def lastfirst(lst_name):\n",
    "    first_names=[]\n",
    "    last_names=[]\n",
    "    for name in lst_name:\n",
    "        fst_name,lst_name=name.split(\",\")\n",
    "        first_names.append(fst_name)\n",
    "        last_names.append(lst_name)\n",
    "    return [first_names,last_names]\n",
    "lastfirst(['Gerber, Len', 'Fox, Kate', 'Dunn, Bob'])"
   ]
  },
  {
   "cell_type": "markdown",
   "id": "46e0b267",
   "metadata": {},
   "source": [
    "30. Develop the function many() that takes as input the name of a file in the current\n",
    "directory (as a string) and outputs the number of words of length 1, 2, 3, and 4. Test your\n",
    "function on file sample.txt.\n",
    "File: sample.txt >>> many('sample.txt')\n",
    "Words of length 1 : 2\n",
    "Words of length 2 : 5\n",
    "Words of length 3 : 1\n",
    "Words of length 4 : 10"
   ]
  },
  {
   "cell_type": "code",
   "execution_count": 17,
   "id": "0a79f775",
   "metadata": {},
   "outputs": [
    {
     "name": "stdout",
     "output_type": "stream",
     "text": [
      "sneha KP\n",
      "\n",
      "Words of length 1 : 0\n",
      "Words of length 2 : 1\n",
      "Words of length 3 : 0\n",
      "Words of length 4 : 0\n"
     ]
    }
   ],
   "source": [
    "def many(filepath):\n",
    "    with open(filepath, 'r') as f:\n",
    "        data = f.readline()\n",
    "        print(data)\n",
    "        f.close()\n",
    "    word_list =data.split()\n",
    "    len1=[]\n",
    "    len2=[]\n",
    "    len3=[]\n",
    "    len4=[]\n",
    "    for word in word_list:\n",
    "        if len(word)==1:\n",
    "            len1.append(word)\n",
    "        elif len(word)==2:\n",
    "            len2.append(word)\n",
    "        elif len(word)==3:\n",
    "            len3.append(word)\n",
    "        elif len(word)==4:\n",
    "            len4.append(word)\n",
    "    a=len(len1)\n",
    "    b=len(len2)\n",
    "    c=len(len3)\n",
    "    d=len(len4)\n",
    "    print('Words of length 1 :',a)\n",
    "    print('Words of length 2 :',b)\n",
    "    print('Words of length 3 :',c)\n",
    "    print('Words of length 4 :',d)\n",
    "\n",
    "many('sample.txt')"
   ]
  },
  {
   "cell_type": "code",
   "execution_count": 13,
   "id": "02445bd0",
   "metadata": {},
   "outputs": [
    {
     "name": "stdout",
     "output_type": "stream",
     "text": [
      "Words of length 1 : 0\n",
      "Words of length 2 : 6\n",
      "Words of length 3 : 6\n",
      "Words of length 4 : 0\n"
     ]
    }
   ],
   "source": [
    "many('output.txt')"
   ]
  },
  {
   "cell_type": "markdown",
   "id": "a7e5de79",
   "metadata": {},
   "source": [
    "31. Write a function subsetSum() that takes as input a list of positive numbers and a positive number target. Your function should return True if there are three numbers in the list that add up to target. For example, if the input list is [5, 4, 10, 20, 15, 19]\n",
    "and target is 38, then True should be returned since 4 + 15 + 19 = 38. However, if the input list is the same but the target value is 10, then the returned value should be False\n",
    "because 10 is not the sum of any three numbers in the given list.\n",
    ">>> subsetSum([5, 4, 10, 20, 15, 19], 38)\n",
    "True\n",
    ">>> subsetSum([5, 4, 10, 20, 15, 19], 10)\n",
    "False"
   ]
  },
  {
   "cell_type": "code",
   "execution_count": null,
   "id": "7c618d74",
   "metadata": {},
   "outputs": [
    {
     "data": {
      "text/plain": [
       "True"
      ]
     },
     "execution_count": 4,
     "metadata": {},
     "output_type": "execute_result"
    }
   ],
   "source": [
    "def subsetsum(lst,n):\n",
    "    for i in lst:\n",
    "        for j in lst:\n",
    "            for k in lst:\n",
    "                if i+j+k==n:\n",
    "                    return True\n",
    "    else:\n",
    "        return False\n",
    "subsetsum([5, 4, 10, 20, 15, 19], 38)    "
   ]
  },
  {
   "cell_type": "code",
   "execution_count": 6,
   "id": "321d4110",
   "metadata": {},
   "outputs": [
    {
     "data": {
      "text/plain": [
       "False"
      ]
     },
     "execution_count": 6,
     "metadata": {},
     "output_type": "execute_result"
    }
   ],
   "source": [
    "subsetsum([5, 4, 10, 20, 15, 19], 10)"
   ]
  },
  {
   "cell_type": "markdown",
   "id": "ff216777",
   "metadata": {},
   "source": [
    "32. Implement function fib() that takes a nonnegative integer n as input and returns the\n",
    "nth Fibonacci number.\n",
    ">>> fib(0)\n",
    "1\n",
    ">>> fib(4)\n",
    "5\n",
    ">>> fib(8)\n",
    "34"
   ]
  },
  {
   "cell_type": "code",
   "execution_count": 31,
   "id": "9900116a",
   "metadata": {},
   "outputs": [
    {
     "name": "stdout",
     "output_type": "stream",
     "text": [
      "34\n"
     ]
    }
   ],
   "source": [
    "def fib(n):\n",
    "    if n == 0:\n",
    "        return 0\n",
    "    elif n == 1:\n",
    "        return 1\n",
    "    lst=[0,1]\n",
    "    for i in range(n):\n",
    "        lst.append(lst[i]+lst[i+1])\n",
    "    print(lst[-1])\n",
    "\n",
    "fib(8)\n",
    "    "
   ]
  },
  {
   "cell_type": "code",
   "execution_count": 32,
   "id": "fc761456",
   "metadata": {},
   "outputs": [
    {
     "name": "stdout",
     "output_type": "stream",
     "text": [
      "5\n"
     ]
    }
   ],
   "source": [
    "fib(4)"
   ]
  },
  {
   "cell_type": "code",
   "execution_count": 33,
   "id": "3e5ff025",
   "metadata": {},
   "outputs": [
    {
     "data": {
      "text/plain": [
       "0"
      ]
     },
     "execution_count": 33,
     "metadata": {},
     "output_type": "execute_result"
    }
   ],
   "source": [
    "fib(0)"
   ]
  },
  {
   "cell_type": "markdown",
   "id": "9fc48222",
   "metadata": {},
   "source": [
    "33. Implement a function mystery() that takes as input a positive integer n and answers\n",
    "this question: How many times can n be halved (using integer division) before reaching 1?\n",
    "This value should returned.\n",
    ">>> mystery(4)\n",
    "2\n",
    ">>> mystery(11)\n",
    "3\n",
    ">>> mystery(25)\n",
    "4"
   ]
  },
  {
   "cell_type": "code",
   "execution_count": 57,
   "id": "097ac350",
   "metadata": {},
   "outputs": [
    {
     "data": {
      "text/plain": [
       "2"
      ]
     },
     "execution_count": 57,
     "metadata": {},
     "output_type": "execute_result"
    }
   ],
   "source": [
    "def mystery(n):\n",
    "    lst=[]\n",
    "    while n>=1:\n",
    "        lst.append(n)\n",
    "        n=n/2\n",
    "    return len(lst)-1\n",
    "mystery(4)   "
   ]
  },
  {
   "cell_type": "code",
   "execution_count": 58,
   "id": "873ce461",
   "metadata": {},
   "outputs": [
    {
     "data": {
      "text/plain": [
       "3"
      ]
     },
     "execution_count": 58,
     "metadata": {},
     "output_type": "execute_result"
    }
   ],
   "source": [
    "mystery(11)"
   ]
  },
  {
   "cell_type": "code",
   "execution_count": 59,
   "id": "0eff3d08",
   "metadata": {},
   "outputs": [
    {
     "data": {
      "text/plain": [
       "4"
      ]
     },
     "execution_count": 59,
     "metadata": {},
     "output_type": "execute_result"
    }
   ],
   "source": [
    "mystery(25)"
   ]
  },
  {
   "cell_type": "markdown",
   "id": "a02b282f",
   "metadata": {},
   "source": [
    "34. Write a function statement() that takes as input a list of floating-point numbers, with\n",
    "positive numbers representing deposits to and negative numbers representing withdrawals\n",
    "from a bank account. Your function should return a list of two floating-point numbers; the\n",
    "first will be the sum of the deposits, and the second (a negative number) will be the sum of\n",
    "the withdrawals.\n",
    ">>> statement([30.95, -15.67, 45.56, -55.00, 43.78])\n",
    "[120.29, -70.67]\n"
   ]
  },
  {
   "cell_type": "code",
   "execution_count": 61,
   "id": "59575c29",
   "metadata": {},
   "outputs": [
    {
     "data": {
      "text/plain": [
       "[120.29, -70.67]"
      ]
     },
     "execution_count": 61,
     "metadata": {},
     "output_type": "execute_result"
    }
   ],
   "source": [
    "def statement(lst):\n",
    "    dpst_lst=[]\n",
    "    wthdrwl_lst=[]\n",
    "    for i in lst:\n",
    "        if i>0:\n",
    "            dpst_lst.append(i)\n",
    "        else:\n",
    "            wthdrwl_lst.append(i)\n",
    "    sum_dpst=sum(dpst_lst)\n",
    "    sum_wthdrwl=sum(wthdrwl_lst)\n",
    "    stmnt_lst=[sum_dpst,sum_wthdrwl]\n",
    "    return stmnt_lst\n",
    "statement([30.95, -15.67, 45.56, -55.00, 43.78])"
   ]
  },
  {
   "cell_type": "markdown",
   "id": "4bb93403",
   "metadata": {},
   "source": [
    "35. Implement function pixels() that takes as input a two-dimensional list of nonnegative integer entries (representing the values of pixels of an image) and returns the number of entries that are positive (i.e., the number of pixels that are not dark). Your function should work on two-dimensional lists of any size.\n",
    ">>> l = [[0, 156, 0, 0], [34, 0, 0, 0], [23, 123, 0, 34]]\n",
    ">>> pixels(l)\n",
    "5\n",
    ">>> l = [[123, 56, 255], [34, 0, 0], [23, 123, 0], [3, 0, 0]]\n",
    ">>> pixels(l)\n",
    "7"
   ]
  },
  {
   "cell_type": "code",
   "execution_count": null,
   "id": "fda65b81",
   "metadata": {},
   "outputs": [],
   "source": []
  },
  {
   "cell_type": "code",
   "execution_count": 62,
   "id": "82446a02",
   "metadata": {},
   "outputs": [
    {
     "data": {
      "text/plain": [
       "5"
      ]
     },
     "execution_count": 62,
     "metadata": {},
     "output_type": "execute_result"
    }
   ],
   "source": [
    "def pixels(pxl_lst):\n",
    "    pstv_num=[]\n",
    "    for lst in pxl_lst:\n",
    "        for n in lst:\n",
    "            if n!=0:\n",
    "                pstv_num.append(n)\n",
    "    return len(pstv_num)\n",
    "pixels([[0, 156, 0, 0], [34, 0, 0, 0], [23, 123, 0, 34]])"
   ]
  },
  {
   "cell_type": "code",
   "execution_count": 63,
   "id": "aa940228",
   "metadata": {},
   "outputs": [
    {
     "data": {
      "text/plain": [
       "7"
      ]
     },
     "execution_count": 63,
     "metadata": {},
     "output_type": "execute_result"
    }
   ],
   "source": [
    "pixels([[123, 56, 255], [34, 0, 0], [23, 123, 0], [3, 0, 0]])"
   ]
  },
  {
   "cell_type": "markdown",
   "id": "09d88006",
   "metadata": {},
   "source": [
    "36. Implement function prime() that takes a positive integer as input and returns True\n",
    "if it is a prime number and False otherwise\n",
    ">>> prime(2)\n",
    "True\n",
    ">>> prime(17)\n",
    "True\n",
    ">>> prime(21)\n",
    "False"
   ]
  },
  {
   "cell_type": "code",
   "execution_count": 111,
   "id": "5e76dc16",
   "metadata": {},
   "outputs": [
    {
     "data": {
      "text/plain": [
       "True"
      ]
     },
     "execution_count": 111,
     "metadata": {},
     "output_type": "execute_result"
    }
   ],
   "source": [
    "import math\n",
    "def prime(n):\n",
    "    if n==1:\n",
    "        return False\n",
    "    elif n==2:\n",
    "        return True\n",
    "\n",
    "    for i in range(2, int(math.sqrt(n))+1):\n",
    "        if n%i==0:\n",
    "            return False\n",
    "    else:\n",
    "        return True\n",
    "prime(2)"
   ]
  },
  {
   "cell_type": "code",
   "execution_count": 112,
   "id": "a52e3c29",
   "metadata": {},
   "outputs": [
    {
     "data": {
      "text/plain": [
       "True"
      ]
     },
     "execution_count": 112,
     "metadata": {},
     "output_type": "execute_result"
    }
   ],
   "source": [
    "prime(17)"
   ]
  },
  {
   "cell_type": "code",
   "execution_count": 113,
   "id": "0d240ed4",
   "metadata": {},
   "outputs": [
    {
     "data": {
      "text/plain": [
       "False"
      ]
     },
     "execution_count": 113,
     "metadata": {},
     "output_type": "execute_result"
    }
   ],
   "source": [
    "prime(21)"
   ]
  },
  {
   "cell_type": "markdown",
   "id": "293c614d",
   "metadata": {},
   "source": [
    "37. Write function mssl() (minimum sum sublist) that takes as input a list of integers.\n",
    "It then computes and returns the sum of the maximum sum sublist of the input list. The\n",
    "maximum sum sublist is a sublist (slice) of the input list whose sum of entries is largest.\n",
    "The empty sublist is defined to have sum 0. For example, the maximum sum sublist of the\n",
    "list\n",
    "[4, -2, -8, 5, -2, 7, 7, 2, -6, 5]\n",
    "is [5, -2, 7, 7, 2] and the sum of its entries is 19.\n",
    ">>> l = [4, -2, -8, 5, -2, 7, 7, 2, -6, 5]\n",
    ">>> mssl(l)\n",
    "19\n",
    ">>> mssl([3,4,5])\n",
    "12\n",
    ">>> mssl([-2,-3,-5])\n",
    "0\n",
    "In the last example, the maximum sum sublist is the empty sublist because all list items are\n",
    "negative."
   ]
  },
  {
   "cell_type": "code",
   "execution_count": null,
   "id": "3904bbfa",
   "metadata": {},
   "outputs": [],
   "source": []
  },
  {
   "cell_type": "markdown",
   "id": "6f814ccc",
   "metadata": {},
   "source": [
    "38. Write function collatz() that takes a positive integer x as input and prints the Collatz\n",
    "sequence starting at x. A Collatz sequence is obtained by repeatedly applying this rule to\n",
    "the previous number x in the sequence:\n",
    "x =   x/2 if x is even\n",
    "      3x + 1 if x is odd.\n",
    "Your function should stop when the sequence gets to number 1. Note: It is an open question\n",
    "whether the Collatz sequence of every positive integer always ends at 1.\n",
    ">>> collatz(10)\n",
    "10\n",
    "5\n",
    "16\n",
    "8\n",
    "4\n",
    "2\n",
    "1\n"
   ]
  },
  {
   "cell_type": "code",
   "execution_count": 17,
   "id": "dac98f19",
   "metadata": {},
   "outputs": [
    {
     "name": "stdout",
     "output_type": "stream",
     "text": [
      "10\n",
      "5\n",
      "16\n",
      "8\n",
      "4\n",
      "2\n",
      "1\n"
     ]
    }
   ],
   "source": [
    "def collatz(x):\n",
    "    while x!=1:\n",
    "        print(x)\n",
    "        if x%2==0:\n",
    "            x=x//2\n",
    "        else:\n",
    "            x=3*x+1\n",
    "    print(1)\n",
    "collatz(10)          "
   ]
  },
  {
   "cell_type": "markdown",
   "id": "cc82781f",
   "metadata": {},
   "source": [
    "39. Write function exclamation() that takes as input a string and returns it with this\n",
    "modification: Every vowelexclamation('argh') is replaced by four consecutive copies of itself and an exclamation mark (!) is added at the end.\n",
    ">>> \n",
    "'aaaargh!'\n",
    ">>> exclamation('hello')\n",
    "'heeeelloooo!'"
   ]
  },
  {
   "cell_type": "code",
   "execution_count": 39,
   "id": "2328b9be",
   "metadata": {},
   "outputs": [
    {
     "data": {
      "text/plain": [
       "'aaaargh!'"
      ]
     },
     "execution_count": 39,
     "metadata": {},
     "output_type": "execute_result"
    }
   ],
   "source": [
    "def exclamation(s):\n",
    "    vowels='aeiouAEIOU'\n",
    "    for char in s:\n",
    "        if char in vowels:\n",
    "            s=s.replace(char,char*4)\n",
    "    s+='!'\n",
    "    return s\n",
    "exclamation('argh')"
   ]
  },
  {
   "cell_type": "code",
   "execution_count": 40,
   "id": "ff80c230",
   "metadata": {},
   "outputs": [
    {
     "data": {
      "text/plain": [
       "'heeeelloooo!'"
      ]
     },
     "execution_count": 40,
     "metadata": {},
     "output_type": "execute_result"
    }
   ],
   "source": [
    "exclamation('hello')"
   ]
  },
  {
   "cell_type": "code",
   "execution_count": 32,
   "id": "ee804af0",
   "metadata": {},
   "outputs": [
    {
     "data": {
      "text/plain": [
       "'aaas'"
      ]
     },
     "execution_count": 32,
     "metadata": {},
     "output_type": "execute_result"
    }
   ],
   "source": [
    "s='as'\n",
    "s.replace('a','aaa')"
   ]
  },
  {
   "cell_type": "markdown",
   "id": "e46dc16f",
   "metadata": {},
   "source": [
    "40. The constant π is an irrational number with value approximately 3.1415928 . . . The\n",
    "precise value of π is equal to this infinite sum:\n",
    "π = 4/1 − 4/3 + 4/5 − 4/7 + 4/9 − 4/11 + . . .\n",
    "We can get a good approximation of π by computing the sum of the first few terms. Write\n",
    "a function approxPi() that takes as input a float-value error and approximates constant π\n",
    "within error by computing the preceding sum, term by term, until the difference between\n",
    "the current sum and the previous sum (with one less term) is no greater than error. The\n",
    "function should return the new sum.\n",
    ">>> approxPi(0.01)\n",
    "3.1465677471829556\n",
    ">>> approxPi(0.0000001)\n",
    "3.1415927035898146"
   ]
  },
  {
   "cell_type": "code",
   "execution_count": null,
   "id": "e6197e62",
   "metadata": {},
   "outputs": [],
   "source": []
  },
  {
   "cell_type": "markdown",
   "id": "3a8c021f",
   "metadata": {},
   "source": [
    "41. A polynomial of degree n with coefficients a0, a1, a2, a3, . . . , an is the function\n",
    "p(x) = a0 + a1x + a2 x2 + a3 ∗ x3 + . . . + an ∗ xn\n",
    "This function can be evaluated at different values of x. For example, if p(x) = 1 + 2x+x2 , then p(2) = 1 + 2 ∗ 2 + 22 = 9. If p(x) = 1 + x2 + x4, then p(2) = 21 and p(3) = 91.\n",
    "Write a function poly() that takes as input a list of coefficients a0, a1, a2, a3, . . . , an\n",
    "of a polynomial p(x) and a value x. The function will return p(x), which is the value of the\n",
    "polynomial when evaluated at x. Note that the usage below is for the three examples shown.\n",
    ">>> poly([1, 2, 1], 2)\n",
    "9\n",
    ">>> poly([1, 0, 1, 0, 1], 2)\n",
    "21\n",
    ">>> poly([1, 0, 1, 0, 1], 3)\n",
    "91"
   ]
  },
  {
   "cell_type": "code",
   "execution_count": null,
   "id": "a7cd3c31",
   "metadata": {},
   "outputs": [],
   "source": []
  },
  {
   "cell_type": "markdown",
   "id": "20a0d45b",
   "metadata": {},
   "source": [
    "42.  Implement function primeFac() that takes as input a positive integer n and returns a\n",
    "list containing all the numbers in the prime factorization of n. (The prime factorization of\n",
    "a positive integer n is the unique list of prime numbers whose product is n.)\n",
    ">>> primeFac(5)\n",
    "[5]\n",
    ">>> primeFac(72)\n",
    "[2, 2, 2, 3, 3]"
   ]
  },
  {
   "cell_type": "code",
   "execution_count": null,
   "id": "007b378b",
   "metadata": {},
   "outputs": [],
   "source": [
    "def primeFac(n):\n",
    "    factors=[]\n",
    "    while n%2==0:\n",
    "        factors.append(2)\n",
    "        n=n/2\n",
    "        while n%3==0:\n",
    "            factors.append(3)"
   ]
  },
  {
   "cell_type": "markdown",
   "id": "c3554b29",
   "metadata": {},
   "source": [
    "43. Implement function evenrow() that takes a two-dimensional list of integers and returns True if each row of the table sums up to an even number and False otherwise (i.e.,\n",
    "if some row sums up to an odd number).\n",
    ">>> evenrow([[1, 3], [2, 4], [0, 6]])\n",
    "True\n",
    ">>> evenrow([[1, 3, 2], [3, 4, 7], [0, 6, 2]])\n",
    "True\n",
    ">>> evenrow([[1, 3, 2], [3, 4, 7], [0, 5, 2]])\n",
    "False"
   ]
  },
  {
   "cell_type": "code",
   "execution_count": 50,
   "id": "e1d0648d",
   "metadata": {},
   "outputs": [
    {
     "data": {
      "text/plain": [
       "True"
      ]
     },
     "execution_count": 50,
     "metadata": {},
     "output_type": "execute_result"
    }
   ],
   "source": [
    "def evenrow(even_lst):\n",
    "    for lst in even_lst:\n",
    "        if sum(lst)%2!=0:\n",
    "            return False\n",
    "    return True\n",
    "evenrow([[1, 3], [2, 4], [0, 6]])"
   ]
  },
  {
   "cell_type": "code",
   "execution_count": 51,
   "id": "2162c534",
   "metadata": {},
   "outputs": [
    {
     "data": {
      "text/plain": [
       "True"
      ]
     },
     "execution_count": 51,
     "metadata": {},
     "output_type": "execute_result"
    }
   ],
   "source": [
    "evenrow([[1, 3, 2], [3, 4, 7], [0, 6, 2]])"
   ]
  },
  {
   "cell_type": "code",
   "execution_count": 52,
   "id": "29a78056",
   "metadata": {},
   "outputs": [
    {
     "data": {
      "text/plain": [
       "False"
      ]
     },
     "execution_count": 52,
     "metadata": {},
     "output_type": "execute_result"
    }
   ],
   "source": [
    "evenrow([[1, 3, 2], [3, 4, 7], [0, 7, 2]])"
   ]
  },
  {
   "cell_type": "markdown",
   "id": "522d0c0e",
   "metadata": {},
   "source": [
    "44. A substitution cipher for the digits 0, 1, 2, 3, . . . , 9 substitutes each digit in 0, 1, 2,\n",
    "3, . . . , 9 with another digit in 0, 1, 2, 3, . . . , 9. It can be represented as a 10-digit string\n",
    "specifying how each digit in 0, 1, 2, 3, . . . , 9 is substituted. For example, the 10-digit string\n",
    "'3941068257' specifies a substitution cipher in which digit 0 is substituted with digit 3, 1\n",
    "with 9, 2 with 4, and so on. To encrypt a nonnegative integer, substitute each of its digits\n",
    "with the digit specified by the encryption key.\n",
    "Implement function cipher() that takes as input a 10-digit string key and a digit string\n",
    "(i.e., the clear text to be encrypted) and returns the encryption of the clear text.\n",
    ">>> encrypt('3941068257', '132')\n",
    "'914'\n",
    ">>> encrypt('3941068257', '111')\n",
    "'999'"
   ]
  },
  {
   "cell_type": "code",
   "execution_count": null,
   "id": "9846cccb",
   "metadata": {},
   "outputs": [],
   "source": []
  },
  {
   "cell_type": "markdown",
   "id": "33de5c2e",
   "metadata": {},
   "source": [
    "45. The function avgavg() takes as input a list whose items are lists of three numbers.\n",
    "Each three-number list represents the three grades a particular student received for a course.\n",
    "For example, here is an input list for a class of four students:\n",
    "[[95,92,86], [66,75,54],[89, 72,100],[34,0,0]]\n",
    "The function avgavg() should print, on the screen, two lines. The first line will contain a\n",
    "list containing every student’s average grade. The second line will contain just one number:\n",
    "the average class grade, defined as the average of all student average grades.\n",
    ">>> avgavg([[95, 92, 86], [66, 75, 54],[89, 72, 100], [34, 0, 0]])\n",
    "[91.0, 65.0, 87.0, 11.333333333333334]\n",
    "63.5833333333"
   ]
  },
  {
   "cell_type": "code",
   "execution_count": 55,
   "id": "985ed760",
   "metadata": {},
   "outputs": [
    {
     "name": "stdout",
     "output_type": "stream",
     "text": [
      "[91.0, 65.0, 87.0, 11.333333333333334]\n",
      "63.583333333333336\n"
     ]
    }
   ],
   "source": [
    "def avgavg(lsts):\n",
    "    avg_lst=[]\n",
    "    for lst in lsts:\n",
    "        avg=sum(lst)/3\n",
    "        avg_lst.append(avg)\n",
    "    total_avg=sum(avg_lst)/len(avg_lst)\n",
    "    print(avg_lst)\n",
    "    print(total_avg)\n",
    "avgavg([[95, 92, 86], [66, 75, 54],[89, 72, 100], [34, 0, 0]])"
   ]
  },
  {
   "cell_type": "markdown",
   "id": "6530b2dd",
   "metadata": {},
   "source": [
    "46. An inversion in a sequence is a pair of entries that are out of order. For example, the\n",
    "characters F and D form an inversion in string 'ABBFHDL' because F appears before D; so\n",
    "do characters H and D. The total number of inversions in a sequence (i.e., the number of\n",
    "pairs that are out of order) is a measure of how unsorted the sequence is. The total number\n",
    "of inversions in 'ABBFHDL' is 2. Implement function inversions() that takes a sequence\n",
    "(i.e., a string) of uppercase characters A through Z and returns the number of inversions in\n",
    "the sequence.\n",
    ">>> inversions('ABBFHDL')\n",
    "2\n",
    ">>> inversions('ABCD')\n",
    "0\n",
    ">>> inversions('DCBA')\n",
    "6"
   ]
  },
  {
   "cell_type": "code",
   "execution_count": null,
   "id": "bd87b8e6",
   "metadata": {},
   "outputs": [],
   "source": []
  },
  {
   "cell_type": "markdown",
   "id": "3410d378",
   "metadata": {},
   "source": [
    "47. Write function d2x() that takes as input a nonnegative integer n (in the standard\n",
    "decimal representation) and an integer x between 2 and 9 and returns a string of digits that\n",
    "represents the base-x representation of n.\n",
    ">>> d2x(10, 2)\n",
    "'1010'\n",
    ">>> d2x(10, 3)\n",
    "'101'\n",
    ">>> d2x(10, 8)\n",
    "'12'"
   ]
  },
  {
   "cell_type": "code",
   "execution_count": 64,
   "id": "16a83ff7",
   "metadata": {},
   "outputs": [
    {
     "data": {
      "text/plain": [
       "'1010'"
      ]
     },
     "execution_count": 64,
     "metadata": {},
     "output_type": "execute_result"
    }
   ],
   "source": [
    "def d2x(n, x):\n",
    "    if n == 0:\n",
    "        return \"0\"\n",
    "    base = \"\"\n",
    "    while n > 0:\n",
    "        b = n % x\n",
    "        base += str(b)\n",
    "        n= n//x\n",
    "    return base[::-1]  \n",
    "\n",
    "d2x(10, 2) "
   ]
  },
  {
   "cell_type": "code",
   "execution_count": 65,
   "id": "da231df9",
   "metadata": {},
   "outputs": [
    {
     "data": {
      "text/plain": [
       "'101'"
      ]
     },
     "execution_count": 65,
     "metadata": {},
     "output_type": "execute_result"
    }
   ],
   "source": [
    "d2x(10, 3)"
   ]
  },
  {
   "cell_type": "code",
   "execution_count": 66,
   "id": "fb5dec50",
   "metadata": {},
   "outputs": [
    {
     "data": {
      "text/plain": [
       "'12'"
      ]
     },
     "execution_count": 66,
     "metadata": {},
     "output_type": "execute_result"
    }
   ],
   "source": [
    "d2x(10, 8)"
   ]
  },
  {
   "cell_type": "markdown",
   "id": "4d7b29d3",
   "metadata": {},
   "source": [
    "48. Let list1 and list2 be two lists of integers. We say that list1 is a sublist of list2\n",
    "if the elements in list1 appear in list2 in the same order as they appear in list1, but\n",
    "not necessarily consecutively. For example, if list1 is defined as\n",
    "[15, 1, 100]\n",
    "and list2 is defined as\n",
    "[20, 15, 30, 50, 1, 100]\n",
    "then list1 is a sublist of list2 because the numbers in list1 (15, 1, and 100) appear in\n",
    "list2 in the same order. However, list\n",
    "[15, 50, 20]\n",
    "is not a sublist of list2.\n",
    "Implement function sublist() that takes as input lists list1 and list2 and returns\n",
    "True if list1 is a sublist of list2, and False otherwise.\n",
    ">>> sublist([15, 1, 100], [20, 15, 30, 50, 1, 100])\n",
    "True\n",
    ">>> sublist([15, 50, 20], [20, 15, 30, 50, 1, 100])\n",
    "False"
   ]
  },
  {
   "cell_type": "code",
   "execution_count": 67,
   "id": "3764f284",
   "metadata": {},
   "outputs": [
    {
     "data": {
      "text/plain": [
       "True"
      ]
     },
     "execution_count": 67,
     "metadata": {},
     "output_type": "execute_result"
    }
   ],
   "source": [
    "def sublist(list1,list2):\n",
    "    lst=[]\n",
    "    for i in list1:\n",
    "        for j in list2:\n",
    "            if i==j:\n",
    "                indx=list2.index(i)\n",
    "                lst.append(indx)\n",
    "    for k in range(len(lst)-1):\n",
    "        if lst[k]>lst[k+1]:\n",
    "            return False\n",
    "    return True\n",
    "sublist([15, 1, 100], [20, 15, 30, 50, 1, 100])"
   ]
  },
  {
   "cell_type": "code",
   "execution_count": 69,
   "id": "8bc6a0bf",
   "metadata": {},
   "outputs": [
    {
     "data": {
      "text/plain": [
       "True"
      ]
     },
     "execution_count": 69,
     "metadata": {},
     "output_type": "execute_result"
    }
   ],
   "source": [
    "def sublist(list1,list2):\n",
    "    lst=[]\n",
    "    for i in list1:\n",
    "        lst.append(list2.index(i))\n",
    "    for k in range(len(lst)-1):\n",
    "        if lst[k]>lst[k+1]:\n",
    "            return False\n",
    "    return True    \n",
    "sublist([15, 1, 100], [20, 15, 30, 50, 1, 100])"
   ]
  },
  {
   "cell_type": "code",
   "execution_count": 72,
   "id": "4f64b95c",
   "metadata": {},
   "outputs": [
    {
     "data": {
      "text/plain": [
       "True"
      ]
     },
     "execution_count": 72,
     "metadata": {},
     "output_type": "execute_result"
    }
   ],
   "source": [
    "def sublist(list1,list2):\n",
    "    for i in range(len(list1)-1):\n",
    "        idx1=list2.index(list1[i])\n",
    "        idx2=list2.index(list1[i+1])\n",
    "        if idx2<idx1:\n",
    "            return False\n",
    "    return True\n",
    "sublist([15, 1, 100], [20, 15, 30, 50, 1, 100])"
   ]
  },
  {
   "cell_type": "code",
   "execution_count": 68,
   "id": "acde8c0c",
   "metadata": {},
   "outputs": [
    {
     "data": {
      "text/plain": [
       "False"
      ]
     },
     "execution_count": 68,
     "metadata": {},
     "output_type": "execute_result"
    }
   ],
   "source": [
    "sublist([15, 50, 20], [20, 15, 30, 50, 1, 100])"
   ]
  },
  {
   "cell_type": "markdown",
   "id": "1e9f21fb",
   "metadata": {},
   "source": [
    "49. The Heron method is a method the ancient Greeks used to compute the square root of\n",
    "a number n. The method generates a sequence of numbers that represent better and better\n",
    "approximations for √n. The first number in the sequence is an arbitrary guess; every other\n",
    "number in the sequence is obtained from the previous number prev using the formula\n",
    "1/2(prev +n/prev)\n",
    "Write function heron() that takes as input two numbers: n and error. The function should\n",
    "start with an initial guess of 1.0 for √n and then repeatedly generate better approximations\n",
    "until the difference (more precisely, the absolute value of the difference) between successive\n",
    "approximations is at most error.\n",
    ">>> heron(4.0, 0.5)\n",
    "2.05\n",
    ">>> heron(4.0, 0.1)\n",
    "2.000609756097561"
   ]
  },
  {
   "cell_type": "code",
   "execution_count": 80,
   "id": "4d313e7d",
   "metadata": {},
   "outputs": [
    {
     "name": "stdout",
     "output_type": "stream",
     "text": [
      "14\n"
     ]
    }
   ],
   "source": [
    "a=10\n",
    "b=20\n",
    "condition=True\n",
    "while condition:\n",
    "    if b-a<5:\n",
    "        condition=False\n",
    "    else:\n",
    "        b-=1\n",
    "print(b)"
   ]
  },
  {
   "cell_type": "code",
   "execution_count": null,
   "id": "f35d34cc",
   "metadata": {},
   "outputs": [],
   "source": [
    "a=10\n",
    "b=20"
   ]
  },
  {
   "cell_type": "code",
   "execution_count": null,
   "id": "9097d769",
   "metadata": {},
   "outputs": [
    {
     "name": "stdout",
     "output_type": "stream",
     "text": [
      "0\n"
     ]
    }
   ],
   "source": [
    "def heron(n,a):\n",
    "    new=0\n",
    "    prev=1\n",
    "    condition=True\n",
    "    while condition:\n",
    "        if abs(prev-new)>a:\n",
    "           condition=False\n",
    "        else:\n",
    "            prev=new \n",
    "            \n",
    "\n",
    "    print(new)\n",
    "heron(4.0, 0.5)"
   ]
  },
  {
   "cell_type": "code",
   "execution_count": 1,
   "id": "de3ddc9e",
   "metadata": {},
   "outputs": [
    {
     "data": {
      "text/plain": [
       "2.05"
      ]
     },
     "execution_count": 1,
     "metadata": {},
     "output_type": "execute_result"
    }
   ],
   "source": [
    "def heron(n,error):\n",
    "    prev=1\n",
    "    condition=True\n",
    "    while condition:\n",
    "        new=new=(1/2)*(prev +(n/prev))\n",
    "        if abs(new-prev)<=error:\n",
    "            return new\n",
    "        else:\n",
    "            prev=new\n",
    "heron(4.0, 0.5)"
   ]
  },
  {
   "cell_type": "code",
   "execution_count": 2,
   "id": "53e3f07d",
   "metadata": {},
   "outputs": [
    {
     "data": {
      "text/plain": [
       "2.000609756097561"
      ]
     },
     "execution_count": 2,
     "metadata": {},
     "output_type": "execute_result"
    }
   ],
   "source": [
    "heron(4.0, 0.1)"
   ]
  },
  {
   "cell_type": "code",
   "execution_count": 3,
   "id": "2d73a9fa",
   "metadata": {},
   "outputs": [
    {
     "data": {
      "text/plain": [
       "2.000609756097561"
      ]
     },
     "execution_count": 3,
     "metadata": {},
     "output_type": "execute_result"
    }
   ],
   "source": [
    "heron(4.0,0.05)"
   ]
  },
  {
   "cell_type": "code",
   "execution_count": 5,
   "id": "8da95c38",
   "metadata": {},
   "outputs": [
    {
     "data": {
      "text/plain": [
       "2.0000000929222947"
      ]
     },
     "execution_count": 5,
     "metadata": {},
     "output_type": "execute_result"
    }
   ],
   "source": [
    "heron(4.0,0.005)"
   ]
  },
  {
   "cell_type": "code",
   "execution_count": 6,
   "id": "96f5083f",
   "metadata": {},
   "outputs": [
    {
     "data": {
      "text/plain": [
       "3.00009155413138"
      ]
     },
     "execution_count": 6,
     "metadata": {},
     "output_type": "execute_result"
    }
   ],
   "source": [
    "heron(9.0,0.1)"
   ]
  }
 ],
 "metadata": {
  "kernelspec": {
   "display_name": "Python 3",
   "language": "python",
   "name": "python3"
  },
  "language_info": {
   "codemirror_mode": {
    "name": "ipython",
    "version": 3
   },
   "file_extension": ".py",
   "mimetype": "text/x-python",
   "name": "python",
   "nbconvert_exporter": "python",
   "pygments_lexer": "ipython3",
   "version": "3.10.0"
  }
 },
 "nbformat": 4,
 "nbformat_minor": 5
}
