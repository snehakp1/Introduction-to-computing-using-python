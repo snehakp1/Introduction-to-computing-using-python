{
 "cells": [
  {
   "cell_type": "code",
   "execution_count": 2,
   "id": "816264e9",
   "metadata": {},
   "outputs": [
    {
     "name": "stdout",
     "output_type": "stream",
     "text": [
      "I 'm Sick\n"
     ]
    }
   ],
   "source": [
    "s ='I \\'m Sick'\n",
    "print(s)\n"
   ]
  },
  {
   "cell_type": "markdown",
   "id": "ca4a82d2",
   "metadata": {},
   "source": [
    "1. Start by executing the assignment:\n",
    "s = '0123456789'\n",
    "Now write expressions using string s and the indexing operator that evaluate to:\n",
    "(a) '234'\n",
    "(b) '78'\n",
    "(c) '1234567'\n",
    "(d) '0123'\n",
    "(e) '789'"
   ]
  },
  {
   "cell_type": "code",
   "execution_count": 6,
   "id": "ee238d45",
   "metadata": {},
   "outputs": [],
   "source": [
    "s = '0123456789'"
   ]
  },
  {
   "cell_type": "code",
   "execution_count": 7,
   "id": "2a131185",
   "metadata": {},
   "outputs": [
    {
     "data": {
      "text/plain": [
       "'234'"
      ]
     },
     "execution_count": 7,
     "metadata": {},
     "output_type": "execute_result"
    }
   ],
   "source": [
    "#a\n",
    "s[2:5]"
   ]
  },
  {
   "cell_type": "code",
   "execution_count": 8,
   "id": "b14c0efc",
   "metadata": {},
   "outputs": [
    {
     "data": {
      "text/plain": [
       "'78'"
      ]
     },
     "execution_count": 8,
     "metadata": {},
     "output_type": "execute_result"
    }
   ],
   "source": [
    "#b\n",
    "s[7:9]"
   ]
  },
  {
   "cell_type": "code",
   "execution_count": 9,
   "id": "75a1fb4e",
   "metadata": {},
   "outputs": [
    {
     "data": {
      "text/plain": [
       "'1234567'"
      ]
     },
     "execution_count": 9,
     "metadata": {},
     "output_type": "execute_result"
    }
   ],
   "source": [
    "#c\n",
    "s[1:8]"
   ]
  },
  {
   "cell_type": "code",
   "execution_count": 10,
   "id": "2b696657",
   "metadata": {},
   "outputs": [
    {
     "data": {
      "text/plain": [
       "'0123'"
      ]
     },
     "execution_count": 10,
     "metadata": {},
     "output_type": "execute_result"
    }
   ],
   "source": [
    "#d\n",
    "s[:4]"
   ]
  },
  {
   "cell_type": "code",
   "execution_count": 11,
   "id": "47018f31",
   "metadata": {},
   "outputs": [
    {
     "data": {
      "text/plain": [
       "'789'"
      ]
     },
     "execution_count": 11,
     "metadata": {},
     "output_type": "execute_result"
    }
   ],
   "source": [
    "#e\n",
    "s[7:]"
   ]
  },
  {
   "cell_type": "markdown",
   "id": "aacfc88a",
   "metadata": {},
   "source": [
    "2. Assuming that variable forecast has been assigned string\n",
    "'It will be a sunny day today'\n",
    "write Python statements corresponding to these assignments:\n",
    "(a) To variable count, the number of occurrences of string 'day' in string forecast.\n",
    "(b) To variable weather, the index where substring 'sunny' starts.\n",
    "(c) To variable change, a copy of forecast in which every occurrence of substring\n",
    "'sunny' is replaced by 'cloudy'."
   ]
  },
  {
   "cell_type": "code",
   "execution_count": 13,
   "id": "bd9baa55",
   "metadata": {},
   "outputs": [],
   "source": [
    "forecast='It will be a sunny day today'"
   ]
  },
  {
   "cell_type": "code",
   "execution_count": 14,
   "id": "bb2977fc",
   "metadata": {},
   "outputs": [
    {
     "data": {
      "text/plain": [
       "2"
      ]
     },
     "execution_count": 14,
     "metadata": {},
     "output_type": "execute_result"
    }
   ],
   "source": [
    "#a\n",
    "count = forecast.count('day')\n",
    "count"
   ]
  },
  {
   "cell_type": "code",
   "execution_count": 17,
   "id": "11215923",
   "metadata": {},
   "outputs": [
    {
     "data": {
      "text/plain": [
       "13"
      ]
     },
     "execution_count": 17,
     "metadata": {},
     "output_type": "execute_result"
    }
   ],
   "source": [
    "#b\n",
    "weather = forecast.find('sunny')\n",
    "weather"
   ]
  },
  {
   "cell_type": "code",
   "execution_count": 20,
   "id": "e573f675",
   "metadata": {},
   "outputs": [
    {
     "data": {
      "text/plain": [
       "'It will be a cloudy day today'"
      ]
     },
     "execution_count": 20,
     "metadata": {},
     "output_type": "execute_result"
    }
   ],
   "source": [
    "#c\n",
    "change = forecast.replace('sunny', 'cloudy')\n",
    "change"
   ]
  },
  {
   "cell_type": "markdown",
   "id": "cde7267a",
   "metadata": {},
   "source": []
  }
 ],
 "metadata": {
  "kernelspec": {
   "display_name": "base",
   "language": "python",
   "name": "python3"
  },
  "language_info": {
   "codemirror_mode": {
    "name": "ipython",
    "version": 3
   },
   "file_extension": ".py",
   "mimetype": "text/x-python",
   "name": "python",
   "nbconvert_exporter": "python",
   "pygments_lexer": "ipython3",
   "version": "3.11.7"
  }
 },
 "nbformat": 4,
 "nbformat_minor": 5
}
